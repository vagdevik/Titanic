{
 "cells": [
  {
   "cell_type": "markdown",
   "metadata": {},
   "source": [
    "### Importing Modules"
   ]
  },
  {
   "cell_type": "code",
   "execution_count": 69,
   "metadata": {},
   "outputs": [],
   "source": [
    "import pandas as pd\n",
    "import numpy as np\n",
    "import matplotlib.pyplot as plt\n",
    "import seaborn as sns\n",
    "%matplotlib inline\n",
    "import warnings\n",
    "warnings.filterwarnings('ignore')\n",
    "sns.set_style(\"whitegrid\")"
   ]
  },
  {
   "cell_type": "markdown",
   "metadata": {},
   "source": [
    "### Loading datasets"
   ]
  },
  {
   "cell_type": "code",
   "execution_count": 2,
   "metadata": {
    "scrolled": true
   },
   "outputs": [
    {
     "data": {
      "text/html": [
       "<div>\n",
       "<style scoped>\n",
       "    .dataframe tbody tr th:only-of-type {\n",
       "        vertical-align: middle;\n",
       "    }\n",
       "\n",
       "    .dataframe tbody tr th {\n",
       "        vertical-align: top;\n",
       "    }\n",
       "\n",
       "    .dataframe thead th {\n",
       "        text-align: right;\n",
       "    }\n",
       "</style>\n",
       "<table border=\"1\" class=\"dataframe\">\n",
       "  <thead>\n",
       "    <tr style=\"text-align: right;\">\n",
       "      <th></th>\n",
       "      <th>PassengerId</th>\n",
       "      <th>Survived</th>\n",
       "      <th>Pclass</th>\n",
       "      <th>Name</th>\n",
       "      <th>Sex</th>\n",
       "      <th>Age</th>\n",
       "      <th>SibSp</th>\n",
       "      <th>Parch</th>\n",
       "      <th>Ticket</th>\n",
       "      <th>Fare</th>\n",
       "      <th>Cabin</th>\n",
       "      <th>Embarked</th>\n",
       "    </tr>\n",
       "  </thead>\n",
       "  <tbody>\n",
       "    <tr>\n",
       "      <th>0</th>\n",
       "      <td>1</td>\n",
       "      <td>0</td>\n",
       "      <td>3</td>\n",
       "      <td>Braund, Mr. Owen Harris</td>\n",
       "      <td>male</td>\n",
       "      <td>22.0</td>\n",
       "      <td>1</td>\n",
       "      <td>0</td>\n",
       "      <td>A/5 21171</td>\n",
       "      <td>7.2500</td>\n",
       "      <td>NaN</td>\n",
       "      <td>S</td>\n",
       "    </tr>\n",
       "    <tr>\n",
       "      <th>1</th>\n",
       "      <td>2</td>\n",
       "      <td>1</td>\n",
       "      <td>1</td>\n",
       "      <td>Cumings, Mrs. John Bradley (Florence Briggs Th...</td>\n",
       "      <td>female</td>\n",
       "      <td>38.0</td>\n",
       "      <td>1</td>\n",
       "      <td>0</td>\n",
       "      <td>PC 17599</td>\n",
       "      <td>71.2833</td>\n",
       "      <td>C85</td>\n",
       "      <td>C</td>\n",
       "    </tr>\n",
       "    <tr>\n",
       "      <th>2</th>\n",
       "      <td>3</td>\n",
       "      <td>1</td>\n",
       "      <td>3</td>\n",
       "      <td>Heikkinen, Miss. Laina</td>\n",
       "      <td>female</td>\n",
       "      <td>26.0</td>\n",
       "      <td>0</td>\n",
       "      <td>0</td>\n",
       "      <td>STON/O2. 3101282</td>\n",
       "      <td>7.9250</td>\n",
       "      <td>NaN</td>\n",
       "      <td>S</td>\n",
       "    </tr>\n",
       "    <tr>\n",
       "      <th>3</th>\n",
       "      <td>4</td>\n",
       "      <td>1</td>\n",
       "      <td>1</td>\n",
       "      <td>Futrelle, Mrs. Jacques Heath (Lily May Peel)</td>\n",
       "      <td>female</td>\n",
       "      <td>35.0</td>\n",
       "      <td>1</td>\n",
       "      <td>0</td>\n",
       "      <td>113803</td>\n",
       "      <td>53.1000</td>\n",
       "      <td>C123</td>\n",
       "      <td>S</td>\n",
       "    </tr>\n",
       "    <tr>\n",
       "      <th>4</th>\n",
       "      <td>5</td>\n",
       "      <td>0</td>\n",
       "      <td>3</td>\n",
       "      <td>Allen, Mr. William Henry</td>\n",
       "      <td>male</td>\n",
       "      <td>35.0</td>\n",
       "      <td>0</td>\n",
       "      <td>0</td>\n",
       "      <td>373450</td>\n",
       "      <td>8.0500</td>\n",
       "      <td>NaN</td>\n",
       "      <td>S</td>\n",
       "    </tr>\n",
       "  </tbody>\n",
       "</table>\n",
       "</div>"
      ],
      "text/plain": [
       "   PassengerId  Survived  Pclass  \\\n",
       "0            1         0       3   \n",
       "1            2         1       1   \n",
       "2            3         1       3   \n",
       "3            4         1       1   \n",
       "4            5         0       3   \n",
       "\n",
       "                                                Name     Sex   Age  SibSp  \\\n",
       "0                            Braund, Mr. Owen Harris    male  22.0      1   \n",
       "1  Cumings, Mrs. John Bradley (Florence Briggs Th...  female  38.0      1   \n",
       "2                             Heikkinen, Miss. Laina  female  26.0      0   \n",
       "3       Futrelle, Mrs. Jacques Heath (Lily May Peel)  female  35.0      1   \n",
       "4                           Allen, Mr. William Henry    male  35.0      0   \n",
       "\n",
       "   Parch            Ticket     Fare Cabin Embarked  \n",
       "0      0         A/5 21171   7.2500   NaN        S  \n",
       "1      0          PC 17599  71.2833   C85        C  \n",
       "2      0  STON/O2. 3101282   7.9250   NaN        S  \n",
       "3      0            113803  53.1000  C123        S  \n",
       "4      0            373450   8.0500   NaN        S  "
      ]
     },
     "execution_count": 2,
     "metadata": {},
     "output_type": "execute_result"
    }
   ],
   "source": [
    "train_df = pd.read_csv('train.csv')\n",
    "test_df = pd.read_csv('test.csv')\n",
    "train_df.head()"
   ]
  },
  {
   "cell_type": "code",
   "execution_count": 3,
   "metadata": {},
   "outputs": [
    {
     "data": {
      "text/plain": [
       "PassengerId      0\n",
       "Pclass           0\n",
       "Name             0\n",
       "Sex              0\n",
       "Age             86\n",
       "SibSp            0\n",
       "Parch            0\n",
       "Ticket           0\n",
       "Fare             1\n",
       "Cabin          327\n",
       "Embarked         0\n",
       "dtype: int64"
      ]
     },
     "execution_count": 3,
     "metadata": {},
     "output_type": "execute_result"
    }
   ],
   "source": [
    "test_df.isnull().sum()"
   ]
  },
  {
   "cell_type": "code",
   "execution_count": 4,
   "metadata": {},
   "outputs": [
    {
     "data": {
      "text/html": [
       "<div>\n",
       "<style scoped>\n",
       "    .dataframe tbody tr th:only-of-type {\n",
       "        vertical-align: middle;\n",
       "    }\n",
       "\n",
       "    .dataframe tbody tr th {\n",
       "        vertical-align: top;\n",
       "    }\n",
       "\n",
       "    .dataframe thead th {\n",
       "        text-align: right;\n",
       "    }\n",
       "</style>\n",
       "<table border=\"1\" class=\"dataframe\">\n",
       "  <thead>\n",
       "    <tr style=\"text-align: right;\">\n",
       "      <th></th>\n",
       "      <th>PassengerId</th>\n",
       "      <th>Survived</th>\n",
       "      <th>Pclass</th>\n",
       "      <th>Name</th>\n",
       "      <th>Sex</th>\n",
       "      <th>Age</th>\n",
       "      <th>SibSp</th>\n",
       "      <th>Parch</th>\n",
       "      <th>Ticket</th>\n",
       "      <th>Fare</th>\n",
       "      <th>Cabin</th>\n",
       "      <th>Embarked</th>\n",
       "    </tr>\n",
       "  </thead>\n",
       "  <tbody>\n",
       "    <tr>\n",
       "      <th>0</th>\n",
       "      <td>1</td>\n",
       "      <td>0.0</td>\n",
       "      <td>3</td>\n",
       "      <td>Braund, Mr. Owen Harris</td>\n",
       "      <td>male</td>\n",
       "      <td>22.0</td>\n",
       "      <td>1</td>\n",
       "      <td>0</td>\n",
       "      <td>A/5 21171</td>\n",
       "      <td>7.2500</td>\n",
       "      <td>NaN</td>\n",
       "      <td>S</td>\n",
       "    </tr>\n",
       "    <tr>\n",
       "      <th>1</th>\n",
       "      <td>2</td>\n",
       "      <td>1.0</td>\n",
       "      <td>1</td>\n",
       "      <td>Cumings, Mrs. John Bradley (Florence Briggs Th...</td>\n",
       "      <td>female</td>\n",
       "      <td>38.0</td>\n",
       "      <td>1</td>\n",
       "      <td>0</td>\n",
       "      <td>PC 17599</td>\n",
       "      <td>71.2833</td>\n",
       "      <td>C85</td>\n",
       "      <td>C</td>\n",
       "    </tr>\n",
       "    <tr>\n",
       "      <th>2</th>\n",
       "      <td>3</td>\n",
       "      <td>1.0</td>\n",
       "      <td>3</td>\n",
       "      <td>Heikkinen, Miss. Laina</td>\n",
       "      <td>female</td>\n",
       "      <td>26.0</td>\n",
       "      <td>0</td>\n",
       "      <td>0</td>\n",
       "      <td>STON/O2. 3101282</td>\n",
       "      <td>7.9250</td>\n",
       "      <td>NaN</td>\n",
       "      <td>S</td>\n",
       "    </tr>\n",
       "    <tr>\n",
       "      <th>3</th>\n",
       "      <td>4</td>\n",
       "      <td>1.0</td>\n",
       "      <td>1</td>\n",
       "      <td>Futrelle, Mrs. Jacques Heath (Lily May Peel)</td>\n",
       "      <td>female</td>\n",
       "      <td>35.0</td>\n",
       "      <td>1</td>\n",
       "      <td>0</td>\n",
       "      <td>113803</td>\n",
       "      <td>53.1000</td>\n",
       "      <td>C123</td>\n",
       "      <td>S</td>\n",
       "    </tr>\n",
       "    <tr>\n",
       "      <th>4</th>\n",
       "      <td>5</td>\n",
       "      <td>0.0</td>\n",
       "      <td>3</td>\n",
       "      <td>Allen, Mr. William Henry</td>\n",
       "      <td>male</td>\n",
       "      <td>35.0</td>\n",
       "      <td>0</td>\n",
       "      <td>0</td>\n",
       "      <td>373450</td>\n",
       "      <td>8.0500</td>\n",
       "      <td>NaN</td>\n",
       "      <td>S</td>\n",
       "    </tr>\n",
       "  </tbody>\n",
       "</table>\n",
       "</div>"
      ],
      "text/plain": [
       "   PassengerId  Survived  Pclass  \\\n",
       "0            1       0.0       3   \n",
       "1            2       1.0       1   \n",
       "2            3       1.0       3   \n",
       "3            4       1.0       1   \n",
       "4            5       0.0       3   \n",
       "\n",
       "                                                Name     Sex   Age  SibSp  \\\n",
       "0                            Braund, Mr. Owen Harris    male  22.0      1   \n",
       "1  Cumings, Mrs. John Bradley (Florence Briggs Th...  female  38.0      1   \n",
       "2                             Heikkinen, Miss. Laina  female  26.0      0   \n",
       "3       Futrelle, Mrs. Jacques Heath (Lily May Peel)  female  35.0      1   \n",
       "4                           Allen, Mr. William Henry    male  35.0      0   \n",
       "\n",
       "   Parch            Ticket     Fare Cabin Embarked  \n",
       "0      0         A/5 21171   7.2500   NaN        S  \n",
       "1      0          PC 17599  71.2833   C85        C  \n",
       "2      0  STON/O2. 3101282   7.9250   NaN        S  \n",
       "3      0            113803  53.1000  C123        S  \n",
       "4      0            373450   8.0500   NaN        S  "
      ]
     },
     "execution_count": 4,
     "metadata": {},
     "output_type": "execute_result"
    }
   ],
   "source": [
    "dataset = pd.concat(objs=[train_df, test_df],axis=0).reset_index(drop=True)\n",
    "dataset.head()"
   ]
  },
  {
   "cell_type": "code",
   "execution_count": 5,
   "metadata": {},
   "outputs": [
    {
     "data": {
      "text/plain": [
       "PassengerId       0\n",
       "Survived        418\n",
       "Pclass            0\n",
       "Name              0\n",
       "Sex               0\n",
       "Age             263\n",
       "SibSp             0\n",
       "Parch             0\n",
       "Ticket            0\n",
       "Fare              1\n",
       "Cabin          1014\n",
       "Embarked          2\n",
       "dtype: int64"
      ]
     },
     "execution_count": 5,
     "metadata": {},
     "output_type": "execute_result"
    }
   ],
   "source": [
    "dataset = dataset.fillna(np.nan)\n",
    "dataset.isnull().sum()"
   ]
  },
  {
   "cell_type": "markdown",
   "metadata": {},
   "source": [
    "### Data Stats and Analysis"
   ]
  },
  {
   "cell_type": "markdown",
   "metadata": {},
   "source": [
    "* Let us rely on the stats and stories unfolded from our data.\n",
    "* Data analysis helps us to have an idea of important features, other probable contributing features, non-essential features etc.\n",
    "* This ultimately helps to prepare our data so as to obtain best possible results in predictions."
   ]
  },
  {
   "cell_type": "code",
   "execution_count": 6,
   "metadata": {},
   "outputs": [
    {
     "data": {
      "text/plain": [
       "Index(['PassengerId', 'Survived', 'Pclass', 'Name', 'Sex', 'Age', 'SibSp',\n",
       "       'Parch', 'Ticket', 'Fare', 'Cabin', 'Embarked'],\n",
       "      dtype='object')"
      ]
     },
     "execution_count": 6,
     "metadata": {},
     "output_type": "execute_result"
    }
   ],
   "source": [
    "train_df.columns"
   ]
  },
  {
   "cell_type": "code",
   "execution_count": 7,
   "metadata": {
    "scrolled": true
   },
   "outputs": [
    {
     "name": "stdout",
     "output_type": "stream",
     "text": [
      "<class 'pandas.core.frame.DataFrame'>\n",
      "RangeIndex: 891 entries, 0 to 890\n",
      "Data columns (total 12 columns):\n",
      " #   Column       Non-Null Count  Dtype  \n",
      "---  ------       --------------  -----  \n",
      " 0   PassengerId  891 non-null    int64  \n",
      " 1   Survived     891 non-null    int64  \n",
      " 2   Pclass       891 non-null    int64  \n",
      " 3   Name         891 non-null    object \n",
      " 4   Sex          891 non-null    object \n",
      " 5   Age          714 non-null    float64\n",
      " 6   SibSp        891 non-null    int64  \n",
      " 7   Parch        891 non-null    int64  \n",
      " 8   Ticket       891 non-null    object \n",
      " 9   Fare         891 non-null    float64\n",
      " 10  Cabin        204 non-null    object \n",
      " 11  Embarked     889 non-null    object \n",
      "dtypes: float64(2), int64(5), object(5)\n",
      "memory usage: 66.2+ KB\n"
     ]
    }
   ],
   "source": [
    "train_df.info()"
   ]
  },
  {
   "cell_type": "markdown",
   "metadata": {},
   "source": [
    "* There are 7 columns of numeric data --> *PassengerId, Survived, Pclass, Age, SibSp, Parch, Fare*.\n",
    "* Rest 5 are of categorical data --> *Name, Sex, Ticket, Cabin, Embarked* \n",
    "* Non-Null count above suggests that there might be null values in the data."
   ]
  },
  {
   "cell_type": "code",
   "execution_count": 8,
   "metadata": {},
   "outputs": [
    {
     "name": "stdout",
     "output_type": "stream",
     "text": [
      "Train set dimensions:  (891, 12)\n"
     ]
    },
    {
     "data": {
      "text/plain": [
       "PassengerId    891\n",
       "Survived         2\n",
       "Pclass           3\n",
       "Name           891\n",
       "Sex              2\n",
       "Age             88\n",
       "SibSp            7\n",
       "Parch            7\n",
       "Ticket         681\n",
       "Fare           248\n",
       "Cabin          147\n",
       "Embarked         3\n",
       "dtype: int64"
      ]
     },
     "execution_count": 8,
     "metadata": {},
     "output_type": "execute_result"
    }
   ],
   "source": [
    "print(\"Train set dimensions: \",train_df.shape)\n",
    "train_df.nunique()"
   ]
  },
  {
   "cell_type": "markdown",
   "metadata": {},
   "source": [
    "* There are 891 samples in the train data.\n",
    "* There are 891 distinct values of *'PassengerId'* column. Thus the basic intuitive thought that it doesn't contribute anything to analysis, is confirmed statistically.\n",
    "* Thus we may drop *'PassengerId'* column.\n",
    "* Similarly, there are 891 distinct values of *'Name'* column."
   ]
  },
  {
   "cell_type": "code",
   "execution_count": 9,
   "metadata": {},
   "outputs": [
    {
     "data": {
      "text/plain": [
       "0                              Braund, Mr. Owen Harris\n",
       "1    Cumings, Mrs. John Bradley (Florence Briggs Th...\n",
       "2                               Heikkinen, Miss. Laina\n",
       "3         Futrelle, Mrs. Jacques Heath (Lily May Peel)\n",
       "4                             Allen, Mr. William Henry\n",
       "Name: Name, dtype: object"
      ]
     },
     "execution_count": 9,
     "metadata": {},
     "output_type": "execute_result"
    }
   ],
   "source": [
    "train_df['Name'].head()"
   ]
  },
  {
   "cell_type": "markdown",
   "metadata": {},
   "source": [
    "* Though the *'Name'* directly may not contribute to the analysis, we might engineer the column to extract features like 'Saluation', which might turn out to be useful in the analysis."
   ]
  },
  {
   "cell_type": "code",
   "execution_count": 10,
   "metadata": {},
   "outputs": [
    {
     "data": {
      "image/png": "[encoded data removed]",
      "text/plain": [
       "<Figure size 432x288 with 2 Axes>"
      ]
     },
     "metadata": {},
     "output_type": "display_data"
    }
   ],
   "source": [
    "# Correlation matrix between numerical values (SibSp Parch Age and Fare values) and Survived \n",
    "g = sns.heatmap(train_df[[\"Survived\",\"SibSp\",\"Parch\",\"Age\",\"Fare\"]].corr(),annot=True, fmt = \".2f\", cmap = \"coolwarm\")"
   ]
  },
  {
   "cell_type": "markdown",
   "metadata": {},
   "source": [
    "* *Fare* appears to be somewhat correlated to the Survival probability.\n",
    "* Let us dig deeper to find if any hidden insights would turn up."
   ]
  },
  {
   "cell_type": "code",
   "execution_count": 11,
   "metadata": {},
   "outputs": [
    {
     "data": {
      "text/plain": [
       "PassengerId      0\n",
       "Survived         0\n",
       "Pclass           0\n",
       "Name             0\n",
       "Sex              0\n",
       "Age            177\n",
       "SibSp            0\n",
       "Parch            0\n",
       "Ticket           0\n",
       "Fare             0\n",
       "Cabin          687\n",
       "Embarked         2\n",
       "dtype: int64"
      ]
     },
     "execution_count": 11,
     "metadata": {},
     "output_type": "execute_result"
    }
   ],
   "source": [
    "train_df.isna().sum()"
   ]
  },
  {
   "cell_type": "code",
   "execution_count": 12,
   "metadata": {},
   "outputs": [
    {
     "data": {
      "text/plain": [
       "<matplotlib.axes._subplots.AxesSubplot at 0xe8b2a50>"
      ]
     },
     "execution_count": 12,
     "metadata": {},
     "output_type": "execute_result"
    },
    {
     "data": {
      "image/png": "[encoded data removed]",
      "text/plain": [
       "<Figure size 432x288 with 2 Axes>"
      ]
     },
     "metadata": {},
     "output_type": "display_data"
    }
   ],
   "source": [
    "# visualizing the missing data\n",
    "\n",
    "sns.heatmap(train_df.isnull(), yticklabels=False)"
   ]
  },
  {
   "cell_type": "markdown",
   "metadata": {},
   "source": [
    "* *Age* and *Cabin* are apparently having missing data.\n",
    "* *Cabin* has most of the data to be missing."
   ]
  },
  {
   "cell_type": "code",
   "execution_count": 13,
   "metadata": {},
   "outputs": [
    {
     "data": {
      "text/plain": [
       "PassengerId     0.000000\n",
       "Survived        0.000000\n",
       "Pclass          0.000000\n",
       "Name            0.000000\n",
       "Sex             0.000000\n",
       "Age            19.865320\n",
       "SibSp           0.000000\n",
       "Parch           0.000000\n",
       "Ticket          0.000000\n",
       "Fare            0.000000\n",
       "Cabin          77.104377\n",
       "Embarked        0.224467\n",
       "dtype: float64"
      ]
     },
     "execution_count": 13,
     "metadata": {},
     "output_type": "execute_result"
    }
   ],
   "source": [
    "train_df.isnull().sum() * 100 / len(train_df)"
   ]
  },
  {
   "cell_type": "markdown",
   "metadata": {},
   "source": [
    "* There are about \n",
    "    * 0.2% values to be missing *'Embarked'* column.\n",
    "    * 20% values to be missing *'Age'* column. \n",
    "    * 80% values to be missing *'Cabin'* column.\n"
   ]
  },
  {
   "cell_type": "markdown",
   "metadata": {},
   "source": [
    "#### Age"
   ]
  },
  {
   "cell_type": "markdown",
   "metadata": {},
   "source": [
    "* Let us visualize the distribution of *Age* data."
   ]
  },
  {
   "cell_type": "code",
   "execution_count": 14,
   "metadata": {},
   "outputs": [
    {
     "data": {
      "text/plain": [
       "<seaborn.axisgrid.FacetGrid at 0xe92f690>"
      ]
     },
     "execution_count": 14,
     "metadata": {},
     "output_type": "execute_result"
    },
    {
     "data": {
      "image/png": "[encoded data removed]",
      "text/plain": [
       "<Figure size 432x216 with 2 Axes>"
      ]
     },
     "metadata": {},
     "output_type": "display_data"
    }
   ],
   "source": [
    "age_plot = sns.FacetGrid(train_df, col='Survived')\n",
    "age_plot.map(sns.distplot, 'Age', bins=20)"
   ]
  },
  {
   "cell_type": "code",
   "execution_count": 15,
   "metadata": {},
   "outputs": [
    {
     "data": {
      "image/png": "[encoded data removed]",
      "text/plain": [
       "<Figure size 432x288 with 1 Axes>"
      ]
     },
     "metadata": {},
     "output_type": "display_data"
    }
   ],
   "source": [
    "# Explore Age distibution \n",
    "g = sns.kdeplot(train_df[\"Age\"][(train_df[\"Survived\"] == 0) & (train_df[\"Age\"].notnull())], color=\"Red\", shade = True)\n",
    "g = sns.kdeplot(train_df[\"Age\"][(train_df[\"Survived\"] == 1) & (train_df[\"Age\"].notnull())], ax =g, color=\"Yellow\", shade = True)\n",
    "g.set_xlabel(\"Age\")\n",
    "g.set_ylabel(\"Frequency\")\n",
    "g = g.legend([\"Not Survived\",\"Survived\"])"
   ]
  },
  {
   "cell_type": "markdown",
   "metadata": {},
   "source": [
    "* We could see a small peak for the younger(nearly of ages <15) ages to survive.\n",
    "* From the correlation matrix of numerical data, it is evident that the age is not greatly correlated with the survival probability.\n",
    "* But from the above plots of age, it is perceptible that subpopulation of age (children) have more chances of being survived.\n",
    "* This is an interesting observation, and thus we should retain age in our data and impute the missing values.\n",
    "* Let us further continue our data analysis."
   ]
  },
  {
   "cell_type": "markdown",
   "metadata": {},
   "source": [
    "#### Parch"
   ]
  },
  {
   "cell_type": "code",
   "execution_count": 16,
   "metadata": {},
   "outputs": [
    {
     "data": {
      "image/png": "[encoded data removed]",
      "text/plain": [
       "<Figure size 360x360 with 1 Axes>"
      ]
     },
     "metadata": {},
     "output_type": "display_data"
    }
   ],
   "source": [
    "g  = sns.factorplot(x=\"Parch\",y=\"Survived\",data=train_df,kind=\"bar\", size = 5, palette = \"muted\")\n",
    "g = g.set_ylabels(\"Survival Probability\")"
   ]
  },
  {
   "cell_type": "markdown",
   "metadata": {},
   "source": [
    "* Medium sized families with size 1<=Parents/children<=3 had more chances of survival. Being short families they might have managed to rescue themselves well and fast.\n",
    "* Nevertheless, families with 3 arents/children depict a high varibility of survaival.\n",
    "* 0 parents/children had lesser chances of survival. This might have been so as they didn't have their own people to save them.\n",
    "* Larger families with 4<=Parents/children<=6 had very poor rate of survival."
   ]
  },
  {
   "cell_type": "markdown",
   "metadata": {},
   "source": [
    "#### SibSp"
   ]
  },
  {
   "cell_type": "code",
   "execution_count": 17,
   "metadata": {},
   "outputs": [
    {
     "data": {
      "image/png": "[encoded data removed]",
      "text/plain": [
       "<Figure size 360x360 with 1 Axes>"
      ]
     },
     "metadata": {},
     "output_type": "display_data"
    }
   ],
   "source": [
    "g  = sns.factorplot(x=\"SibSp\",y=\"Survived\",data=train_df,kind=\"bar\", size = 5, palette = \"muted\")\n",
    "g = g.set_ylabels(\"Survival Probability\")"
   ]
  },
  {
   "cell_type": "markdown",
   "metadata": {},
   "source": [
    "* People with 1 or 2 siblings/spouse  had greater chances of survival.\n",
    "* Larger number of siblings/spouse had less chances of survival."
   ]
  },
  {
   "cell_type": "markdown",
   "metadata": {},
   "source": [
    "* Observing the above obtained insights from *SibSp* and *Parch* features:\n",
    "    * we could make out that larger families might have had greater difficulties escaping from the danger and save themselves. \n",
    "    * So, I feel that it would be reasonable to combine these to features to makeout a new feature representing the family size as a whole."
   ]
  },
  {
   "cell_type": "markdown",
   "metadata": {},
   "source": [
    "#### Fare"
   ]
  },
  {
   "cell_type": "code",
   "execution_count": 18,
   "metadata": {},
   "outputs": [
    {
     "data": {
      "text/plain": [
       "1"
      ]
     },
     "execution_count": 18,
     "metadata": {},
     "output_type": "execute_result"
    }
   ],
   "source": [
    "dataset[\"Fare\"].isnull().sum()"
   ]
  },
  {
   "cell_type": "markdown",
   "metadata": {},
   "source": [
    "* Since *Fare* is a numerical column, let us impute the missing value with median."
   ]
  },
  {
   "cell_type": "code",
   "execution_count": 19,
   "metadata": {},
   "outputs": [
    {
     "data": {
      "text/plain": [
       "0"
      ]
     },
     "execution_count": 19,
     "metadata": {},
     "output_type": "execute_result"
    }
   ],
   "source": [
    "dataset[\"Fare\"] = dataset[\"Fare\"].fillna(dataset[\"Fare\"].median())\n",
    "dataset[\"Fare\"].isnull().sum()"
   ]
  },
  {
   "cell_type": "code",
   "execution_count": 20,
   "metadata": {},
   "outputs": [
    {
     "data": {
      "image/png": "[encoded data removed]",
      "text/plain": [
       "<Figure size 432x288 with 1 Axes>"
      ]
     },
     "metadata": {},
     "output_type": "display_data"
    }
   ],
   "source": [
    "g = sns.distplot(dataset[\"Fare\"], color=\"m\", label=\"Skewness : %.2f\"%(dataset[\"Fare\"].skew()))\n",
    "g = g.legend(loc=\"best\")"
   ]
  },
  {
   "cell_type": "markdown",
   "metadata": {},
   "source": [
    "* The *Fare* data is quite skewed, this might lead to overweighed impression of the feature in the modeling.\n",
    "* Let us log-transform the data to reduce skewness."
   ]
  },
  {
   "cell_type": "code",
   "execution_count": 21,
   "metadata": {},
   "outputs": [
    {
     "data": {
      "image/png": "[encoded data removed]",
      "text/plain": [
       "<Figure size 432x288 with 1 Axes>"
      ]
     },
     "metadata": {},
     "output_type": "display_data"
    }
   ],
   "source": [
    "dataset[\"Fare\"] = dataset[\"Fare\"].map(lambda i: np.log(i) if i > 0 else 0)\n",
    "\n",
    "g = sns.distplot(dataset[\"Fare\"], color=\"m\", label=\"Skewness : %.2f\"%(dataset[\"Fare\"].skew()))\n",
    "g = g.legend(loc=\"best\")"
   ]
  },
  {
   "cell_type": "markdown",
   "metadata": {},
   "source": [
    "* This chart depicts an obvious reduction in the skewness of the *Fare*."
   ]
  },
  {
   "cell_type": "markdown",
   "metadata": {},
   "source": [
    "#### Sex"
   ]
  },
  {
   "cell_type": "code",
   "execution_count": 22,
   "metadata": {},
   "outputs": [
    {
     "data": {
      "text/plain": [
       "0"
      ]
     },
     "execution_count": 22,
     "metadata": {},
     "output_type": "execute_result"
    }
   ],
   "source": [
    "dataset[\"Sex\"].isnull().sum()"
   ]
  },
  {
   "cell_type": "code",
   "execution_count": 23,
   "metadata": {},
   "outputs": [
    {
     "data": {
      "image/png": "[encoded data removed]",
      "text/plain": [
       "<Figure size 360x360 with 1 Axes>"
      ]
     },
     "metadata": {},
     "output_type": "display_data"
    }
   ],
   "source": [
    "g  = sns.factorplot(x=\"Sex\",y=\"Survived\",data=train_df,kind=\"bar\", size = 5, palette = \"rainbow\")\n",
    "g = g.set_ylabels(\"Survival Probability\")"
   ]
  },
  {
   "cell_type": "markdown",
   "metadata": {},
   "source": [
    "* Females had quite a larger probability of survival as compared to males."
   ]
  },
  {
   "cell_type": "code",
   "execution_count": 24,
   "metadata": {},
   "outputs": [
    {
     "data": {
      "text/plain": [
       "Text(0.5, 1.0, 'Male')"
      ]
     },
     "execution_count": 24,
     "metadata": {},
     "output_type": "execute_result"
    },
    {
     "data": {
      "image/png": "[encoded data removed]",
      "text/plain": [
       "<Figure size 1080x360 with 2 Axes>"
      ]
     },
     "metadata": {},
     "output_type": "display_data"
    }
   ],
   "source": [
    "survived = 'survived'\n",
    "not_survived = 'not survived'\n",
    "\n",
    "fig, axes = plt.subplots(nrows=1, ncols=2,figsize=(15, 5))\n",
    "female = train_df[train_df['Sex']=='female']\n",
    "male = train_df[train_df['Sex']=='male']\n",
    "\n",
    "ax = sns.distplot(female[female['Survived']==1]['Age'].dropna(), bins=18, label = survived, ax = axes[0], kde =False)\n",
    "ax = sns.distplot(female[female['Survived']==0]['Age'].dropna(), bins=40, label = not_survived, ax = axes[0], kde =False)\n",
    "ax.legend()\n",
    "ax.set_title('Female')\n",
    "\n",
    "ax = sns.distplot(male[male['Survived']==1]['Age'].dropna(), bins=18, label = survived, ax = axes[1], kde = False)\n",
    "ax = sns.distplot(male[male['Survived']==0]['Age'].dropna(), bins=40, label = not_survived, ax = axes[1], kde = False)\n",
    "ax.legend()\n",
    "ax.set_title('Male')"
   ]
  },
  {
   "cell_type": "markdown",
   "metadata": {},
   "source": [
    "* The probability of survival is :\n",
    "    * high in children\n",
    "    * high in females of age around 15-42\n",
    "    * males of age around 18-38 had higher rates of non-survival as compared to their survival probability. Whereas femlaes had very high chances of survival at this age group.\n",
    "    * Thus age and sex are related to predict survival."
   ]
  },
  {
   "cell_type": "markdown",
   "metadata": {},
   "source": [
    "#### Pclass"
   ]
  },
  {
   "cell_type": "code",
   "execution_count": 25,
   "metadata": {},
   "outputs": [
    {
     "data": {
      "text/plain": [
       "0"
      ]
     },
     "execution_count": 25,
     "metadata": {},
     "output_type": "execute_result"
    }
   ],
   "source": [
    "dataset[\"Pclass\"].isnull().sum()"
   ]
  },
  {
   "cell_type": "code",
   "execution_count": 26,
   "metadata": {},
   "outputs": [
    {
     "data": {
      "image/png": "[encoded data removed]",
      "text/plain": [
       "<Figure size 432x288 with 1 Axes>"
      ]
     },
     "metadata": {},
     "output_type": "display_data"
    }
   ],
   "source": [
    "pclass_count = list(train_df['Pclass'].value_counts().sort_index())\n",
    "survived_df = train_df[train_df.Survived==1]\n",
    "survived_count = list(survived_df.Pclass.value_counts().sort_index())\n",
    "index = sorted(train_df.Pclass.unique())\n",
    "df = pd.DataFrame({'Total passengers':pclass_count,'Survived passengers':survived_count},index=index,columns=['Total passengers','Survived passengers'])\n",
    "ax = df.plot.bar(rot=0)\n",
    "ax.set_xlabel(\"PClass\")\n",
    "ax.set_ylabel(\"Passengers count\")\n",
    "ax.set_title(\"PClass wise Survival status of passengers\")\n",
    "for p in ax.patches:\n",
    "    ax.annotate(str(p.get_height()), (p.get_x() * 1.025, p.get_height() * 1.005))"
   ]
  },
  {
   "cell_type": "markdown",
   "metadata": {},
   "source": [
    "* About 63% of *Pclass 1*, 47% of *Pclass 2* and 24% of *Pclass 3* are survived.\n",
    "* So higher class people (socio-economically strong) have survived the most."
   ]
  },
  {
   "cell_type": "code",
   "execution_count": 27,
   "metadata": {},
   "outputs": [
    {
     "data": {
      "image/png": "[encoded data removed]",
      "text/plain": [
       "<Figure size 426.125x360 with 1 Axes>"
      ]
     },
     "metadata": {},
     "output_type": "display_data"
    }
   ],
   "source": [
    "g = sns.factorplot(x=\"Pclass\", y=\"Survived\", hue=\"Sex\", data=train_df,size=5, kind=\"bar\", palette=\"rainbow\")\n",
    "g.despine(left=True)\n",
    "g = g.set_ylabels(\"survival probability\")"
   ]
  },
  {
   "cell_type": "markdown",
   "metadata": {},
   "source": [
    "* Females of the three Pclasses has higher probability of survival when compared to males."
   ]
  },
  {
   "cell_type": "markdown",
   "metadata": {},
   "source": [
    "#### Embarked"
   ]
  },
  {
   "cell_type": "code",
   "execution_count": 28,
   "metadata": {},
   "outputs": [
    {
     "data": {
      "text/plain": [
       "2"
      ]
     },
     "execution_count": 28,
     "metadata": {},
     "output_type": "execute_result"
    }
   ],
   "source": [
    "dataset[\"Embarked\"].isnull().sum()"
   ]
  },
  {
   "cell_type": "markdown",
   "metadata": {},
   "source": [
    "* Since this is a categorical variable, let us impute the missing values with mode."
   ]
  },
  {
   "cell_type": "code",
   "execution_count": 29,
   "metadata": {},
   "outputs": [
    {
     "data": {
      "text/plain": [
       "<matplotlib.axes._subplots.AxesSubplot at 0xed04710>"
      ]
     },
     "execution_count": 29,
     "metadata": {},
     "output_type": "execute_result"
    },
    {
     "data": {
      "image/png": "[encoded data removed]",
      "text/plain": [
       "<Figure size 432x288 with 1 Axes>"
      ]
     },
     "metadata": {},
     "output_type": "display_data"
    }
   ],
   "source": [
    "dataset[\"Embarked\"].value_counts().plot(kind='bar', color='g')"
   ]
  },
  {
   "cell_type": "code",
   "execution_count": 30,
   "metadata": {},
   "outputs": [
    {
     "name": "stdout",
     "output_type": "stream",
     "text": [
      "0    S\n",
      "dtype: object\n"
     ]
    },
    {
     "data": {
      "text/plain": [
       "0"
      ]
     },
     "execution_count": 30,
     "metadata": {},
     "output_type": "execute_result"
    }
   ],
   "source": [
    "print(dataset[\"Embarked\"].mode())\n",
    "dataset[\"Embarked\"] = dataset[\"Embarked\"].fillna(dataset[\"Embarked\"].mode()[0])\n",
    "dataset[\"Embarked\"].isnull().sum()"
   ]
  },
  {
   "cell_type": "code",
   "execution_count": 31,
   "metadata": {},
   "outputs": [
    {
     "data": {
      "text/plain": [
       "Text(0.5, 1.0, 'Survival probability based on the Embarked')"
      ]
     },
     "execution_count": 31,
     "metadata": {},
     "output_type": "execute_result"
    },
    {
     "data": {
      "image/png": "[encoded data removed]",
      "text/plain": [
       "<Figure size 432x288 with 1 Axes>"
      ]
     },
     "metadata": {},
     "output_type": "display_data"
    }
   ],
   "source": [
    "plt = train_df[['Embarked', 'Survived']].groupby('Embarked').mean().Survived.plot(kind='bar')\n",
    "plt.set_xlabel('Embarked')\n",
    "plt.set_ylabel('Survival Probability')\n",
    "for p in plt.patches:\n",
    "    plt.annotate(str(round(p.get_height(),2)), (p.get_x() * 1.025, p.get_height() * 1.005))\n",
    "plt.set_title(\"Survival probability based on the Embarked\")"
   ]
  },
  {
   "cell_type": "markdown",
   "metadata": {},
   "source": [
    "* The order of higher survival probability is C>Q~S.\n",
    "* Thus the passengers from Cherbourg(C) had higher survival probability."
   ]
  },
  {
   "cell_type": "code",
   "execution_count": 32,
   "metadata": {},
   "outputs": [
    {
     "data": {
      "image/png": "[encoded data removed]",
      "text/plain": [
       "<Figure size 1343x432 with 3 Axes>"
      ]
     },
     "metadata": {},
     "output_type": "display_data"
    }
   ],
   "source": [
    "g = sns.factorplot(\"Pclass\", col=\"Embarked\",hue='Survived',  data=train_df, size=6, kind=\"count\", palette=\"pastel\")\n",
    "g = g.set_ylabels(\"Count\")"
   ]
  },
  {
   "cell_type": "markdown",
   "metadata": {},
   "source": [
    "* As evident from both Pclass and Embarked, \n",
    "    * 1st class people had more survival probabilities than non.survival probabilities.\n",
    "    * At port C, more people boarded into 1st class, conforming to the insight that the more people from C had survived."
   ]
  },
  {
   "cell_type": "code",
   "execution_count": 33,
   "metadata": {},
   "outputs": [
    {
     "data": {
      "text/plain": [
       "<seaborn.axisgrid.FacetGrid at 0xe183590>"
      ]
     },
     "execution_count": 33,
     "metadata": {},
     "output_type": "execute_result"
    },
    {
     "data": {
      "image/png": "[encoded data removed]",
      "text/plain": [
       "<Figure size 411.725x648 with 3 Axes>"
      ]
     },
     "metadata": {},
     "output_type": "display_data"
    }
   ],
   "source": [
    "grid = sns.FacetGrid(train_df, row='Embarked', size=3, aspect=1.6)\n",
    "grid.map(sns.pointplot, 'Pclass', 'Survived', 'Sex', palette='deep')\n",
    "grid.set_axis_labels(y_var=\"Survival Probability\")\n",
    "grid.add_legend()"
   ]
  },
  {
   "cell_type": "markdown",
   "metadata": {},
   "source": [
    "* These plots point an exception where males had a higher probability of survival than females in Embarked=C.\n",
    "* This might be due to the correlation between Embarked and Pclass, and in return that in between Pclass and Survived."
   ]
  },
  {
   "cell_type": "markdown",
   "metadata": {},
   "source": [
    "### Imputing Missing Data"
   ]
  },
  {
   "cell_type": "markdown",
   "metadata": {},
   "source": [
    "#### Age"
   ]
  },
  {
   "cell_type": "markdown",
   "metadata": {},
   "source": [
    "* Based on the observations made in the data analysis, let us try to find out the relation between Age vs Sex, Parch, SibSp and Pclass."
   ]
  },
  {
   "cell_type": "code",
   "execution_count": 34,
   "metadata": {},
   "outputs": [
    {
     "data": {
      "image/png": "[encoded data removed]",
      "text/plain": [
       "<Figure size 360x360 with 1 Axes>"
      ]
     },
     "metadata": {},
     "output_type": "display_data"
    }
   ],
   "source": [
    "g = sns.factorplot(y=\"Age\",x=\"Sex\",data=dataset,kind=\"box\")"
   ]
  },
  {
   "cell_type": "markdown",
   "metadata": {},
   "source": [
    "* The *Age* distribution is apparently the same for both the sexes, thus it might not be useful to predict *Age*."
   ]
  },
  {
   "cell_type": "code",
   "execution_count": 35,
   "metadata": {},
   "outputs": [
    {
     "data": {
      "image/png": "[encoded data removed]",
      "text/plain": [
       "<Figure size 360x360 with 1 Axes>"
      ]
     },
     "metadata": {},
     "output_type": "display_data"
    },
    {
     "data": {
      "image/png": "[encoded data removed]",
      "text/plain": [
       "<Figure size 360x360 with 1 Axes>"
      ]
     },
     "metadata": {},
     "output_type": "display_data"
    },
    {
     "data": {
      "image/png": "[encoded data removed]",
      "text/plain": [
       "<Figure size 401.625x360 with 1 Axes>"
      ]
     },
     "metadata": {},
     "output_type": "display_data"
    }
   ],
   "source": [
    "g = sns.factorplot(y=\"Age\",x=\"Parch\", data=dataset,kind=\"box\")\n",
    "g = sns.factorplot(y=\"Age\",x=\"SibSp\", data=dataset,kind=\"box\")\n",
    "g = sns.factorplot(y=\"Age\",x=\"Sex\",hue=\"Pclass\", data=dataset,kind=\"box\")"
   ]
  },
  {
   "cell_type": "markdown",
   "metadata": {},
   "source": [
    "* With varying distributions of *Age* for each category of variables, these three features seem to be informative to predict *Age*.\n",
    "* Let us cross-check our intuitions with a correlation map."
   ]
  },
  {
   "cell_type": "code",
   "execution_count": 36,
   "metadata": {},
   "outputs": [],
   "source": [
    "dataset[\"Sex\"] = dataset[\"Sex\"].map({\"male\": 0, \"female\":1})"
   ]
  },
  {
   "cell_type": "code",
   "execution_count": 37,
   "metadata": {},
   "outputs": [
    {
     "data": {
      "image/png": "[encoded data removed]",
      "text/plain": [
       "<Figure size 432x288 with 2 Axes>"
      ]
     },
     "metadata": {},
     "output_type": "display_data"
    }
   ],
   "source": [
    "g = sns.heatmap(dataset[['Age','Sex','Pclass','SibSp','Parch']].corr(),cmap=\"Greens\",annot=True)"
   ]
  },
  {
   "cell_type": "markdown",
   "metadata": {},
   "source": [
    "* *Age* and *Sex* are not correlated.\n",
    "* *Age* is negatively correlated with *Pclass*, *SibSp* and *Parch*.\n",
    "* Let us consider *Pclass*, *SibSp* and *Parch* to impute missing *Age* values."
   ]
  },
  {
   "cell_type": "markdown",
   "metadata": {},
   "source": [
    "* Strategy to fill *Age* missing values:\n",
    "    * Fill the missing age values with the median of age, if its corresponding values of *Pclass*, *SibSp* and *Parch* match.\n",
    "    * Else, fill it with the median of *Age*."
   ]
  },
  {
   "cell_type": "code",
   "execution_count": 38,
   "metadata": {
    "scrolled": true
   },
   "outputs": [
    {
     "data": {
      "text/plain": [
       "263"
      ]
     },
     "execution_count": 38,
     "metadata": {},
     "output_type": "execute_result"
    }
   ],
   "source": [
    "#  get the indices of null Age values\n",
    "\n",
    "age_Nan_indices = dataset['Age'][dataset['Age'].isnull()].index\n",
    "age_Nan_indices = list(age_Nan_indices)\n",
    "len(age_Nan_indices)"
   ]
  },
  {
   "cell_type": "code",
   "execution_count": 39,
   "metadata": {},
   "outputs": [
    {
     "name": "stdout",
     "output_type": "stream",
     "text": [
      "0\n"
     ]
    }
   ],
   "source": [
    "age_median = dataset['Age'].median()\n",
    "prev = dataset['Age'].isnull().sum()+1\n",
    "for i in age_Nan_indices:\n",
    "    age_pred = dataset['Age'][((dataset['Parch']==dataset['Parch'].iloc[i]) & (dataset['SibSp']==dataset['SibSp'].iloc[i]) & (dataset['Pclass']==dataset['Pclass'].iloc[i]))].median()\n",
    "    if not np.isnan(age_pred):\n",
    "        age = age_pred\n",
    "    else:\n",
    "        age = age_median\n",
    "    dataset['Age'].iloc[i] = age\n",
    "\n",
    "print(dataset['Age'].isnull().sum())"
   ]
  },
  {
   "cell_type": "markdown",
   "metadata": {},
   "source": [
    "### Feature Engineering"
   ]
  },
  {
   "cell_type": "markdown",
   "metadata": {},
   "source": [
    "#### Extract *Salutation* from *Name*"
   ]
  },
  {
   "cell_type": "code",
   "execution_count": 40,
   "metadata": {},
   "outputs": [
    {
     "data": {
      "text/plain": [
       "0                              Braund, Mr. Owen Harris\n",
       "1    Cumings, Mrs. John Bradley (Florence Briggs Th...\n",
       "2                               Heikkinen, Miss. Laina\n",
       "3         Futrelle, Mrs. Jacques Heath (Lily May Peel)\n",
       "4                             Allen, Mr. William Henry\n",
       "Name: Name, dtype: object"
      ]
     },
     "execution_count": 40,
     "metadata": {},
     "output_type": "execute_result"
    }
   ],
   "source": [
    "dataset[\"Name\"].head()"
   ]
  },
  {
   "cell_type": "code",
   "execution_count": 41,
   "metadata": {},
   "outputs": [
    {
     "data": {
      "text/plain": [
       "1304              Spector, Mr. Woolf\n",
       "1305    Oliva y Ocana, Dona. Fermina\n",
       "1306    Saether, Mr. Simon Sivertsen\n",
       "1307             Ware, Mr. Frederick\n",
       "1308        Peter, Master. Michael J\n",
       "Name: Name, dtype: object"
      ]
     },
     "execution_count": 41,
     "metadata": {},
     "output_type": "execute_result"
    }
   ],
   "source": [
    "dataset[\"Name\"].tail()"
   ]
  },
  {
   "cell_type": "markdown",
   "metadata": {},
   "source": [
    "* If we observe, the names have \",\" and salutation is seperated by \".\"\n",
    "* Let us split based on these."
   ]
  },
  {
   "cell_type": "code",
   "execution_count": 42,
   "metadata": {},
   "outputs": [
    {
     "data": {
      "text/html": [
       "<div>\n",
       "<style scoped>\n",
       "    .dataframe tbody tr th:only-of-type {\n",
       "        vertical-align: middle;\n",
       "    }\n",
       "\n",
       "    .dataframe tbody tr th {\n",
       "        vertical-align: top;\n",
       "    }\n",
       "\n",
       "    .dataframe thead th {\n",
       "        text-align: right;\n",
       "    }\n",
       "</style>\n",
       "<table border=\"1\" class=\"dataframe\">\n",
       "  <thead>\n",
       "    <tr style=\"text-align: right;\">\n",
       "      <th></th>\n",
       "      <th>PassengerId</th>\n",
       "      <th>Survived</th>\n",
       "      <th>Pclass</th>\n",
       "      <th>Name</th>\n",
       "      <th>Sex</th>\n",
       "      <th>Age</th>\n",
       "      <th>SibSp</th>\n",
       "      <th>Parch</th>\n",
       "      <th>Ticket</th>\n",
       "      <th>Fare</th>\n",
       "      <th>Cabin</th>\n",
       "      <th>Embarked</th>\n",
       "      <th>Salutation</th>\n",
       "    </tr>\n",
       "  </thead>\n",
       "  <tbody>\n",
       "    <tr>\n",
       "      <th>0</th>\n",
       "      <td>1</td>\n",
       "      <td>0.0</td>\n",
       "      <td>3</td>\n",
       "      <td>Braund, Mr. Owen Harris</td>\n",
       "      <td>0</td>\n",
       "      <td>22.0</td>\n",
       "      <td>1</td>\n",
       "      <td>0</td>\n",
       "      <td>A/5 21171</td>\n",
       "      <td>1.981001</td>\n",
       "      <td>NaN</td>\n",
       "      <td>S</td>\n",
       "      <td>Mr</td>\n",
       "    </tr>\n",
       "    <tr>\n",
       "      <th>1</th>\n",
       "      <td>2</td>\n",
       "      <td>1.0</td>\n",
       "      <td>1</td>\n",
       "      <td>Cumings, Mrs. John Bradley (Florence Briggs Th...</td>\n",
       "      <td>1</td>\n",
       "      <td>38.0</td>\n",
       "      <td>1</td>\n",
       "      <td>0</td>\n",
       "      <td>PC 17599</td>\n",
       "      <td>4.266662</td>\n",
       "      <td>C85</td>\n",
       "      <td>C</td>\n",
       "      <td>Mrs</td>\n",
       "    </tr>\n",
       "    <tr>\n",
       "      <th>2</th>\n",
       "      <td>3</td>\n",
       "      <td>1.0</td>\n",
       "      <td>3</td>\n",
       "      <td>Heikkinen, Miss. Laina</td>\n",
       "      <td>1</td>\n",
       "      <td>26.0</td>\n",
       "      <td>0</td>\n",
       "      <td>0</td>\n",
       "      <td>STON/O2. 3101282</td>\n",
       "      <td>2.070022</td>\n",
       "      <td>NaN</td>\n",
       "      <td>S</td>\n",
       "      <td>Miss</td>\n",
       "    </tr>\n",
       "    <tr>\n",
       "      <th>3</th>\n",
       "      <td>4</td>\n",
       "      <td>1.0</td>\n",
       "      <td>1</td>\n",
       "      <td>Futrelle, Mrs. Jacques Heath (Lily May Peel)</td>\n",
       "      <td>1</td>\n",
       "      <td>35.0</td>\n",
       "      <td>1</td>\n",
       "      <td>0</td>\n",
       "      <td>113803</td>\n",
       "      <td>3.972177</td>\n",
       "      <td>C123</td>\n",
       "      <td>S</td>\n",
       "      <td>Mrs</td>\n",
       "    </tr>\n",
       "    <tr>\n",
       "      <th>4</th>\n",
       "      <td>5</td>\n",
       "      <td>0.0</td>\n",
       "      <td>3</td>\n",
       "      <td>Allen, Mr. William Henry</td>\n",
       "      <td>0</td>\n",
       "      <td>35.0</td>\n",
       "      <td>0</td>\n",
       "      <td>0</td>\n",
       "      <td>373450</td>\n",
       "      <td>2.085672</td>\n",
       "      <td>NaN</td>\n",
       "      <td>S</td>\n",
       "      <td>Mr</td>\n",
       "    </tr>\n",
       "  </tbody>\n",
       "</table>\n",
       "</div>"
      ],
      "text/plain": [
       "   PassengerId  Survived  Pclass  \\\n",
       "0            1       0.0       3   \n",
       "1            2       1.0       1   \n",
       "2            3       1.0       3   \n",
       "3            4       1.0       1   \n",
       "4            5       0.0       3   \n",
       "\n",
       "                                                Name  Sex   Age  SibSp  Parch  \\\n",
       "0                            Braund, Mr. Owen Harris    0  22.0      1      0   \n",
       "1  Cumings, Mrs. John Bradley (Florence Briggs Th...    1  38.0      1      0   \n",
       "2                             Heikkinen, Miss. Laina    1  26.0      0      0   \n",
       "3       Futrelle, Mrs. Jacques Heath (Lily May Peel)    1  35.0      1      0   \n",
       "4                           Allen, Mr. William Henry    0  35.0      0      0   \n",
       "\n",
       "             Ticket      Fare Cabin Embarked Salutation  \n",
       "0         A/5 21171  1.981001   NaN        S         Mr  \n",
       "1          PC 17599  4.266662   C85        C        Mrs  \n",
       "2  STON/O2. 3101282  2.070022   NaN        S       Miss  \n",
       "3            113803  3.972177  C123        S        Mrs  \n",
       "4            373450  2.085672   NaN        S         Mr  "
      ]
     },
     "execution_count": 42,
     "metadata": {},
     "output_type": "execute_result"
    }
   ],
   "source": [
    "salutation = [i.split(',')[1].strip().split('.')[0] for i in dataset['Name']]\n",
    "dataset['Salutation'] = salutation\n",
    "dataset.head()"
   ]
  },
  {
   "cell_type": "code",
   "execution_count": 43,
   "metadata": {},
   "outputs": [
    {
     "data": {
      "text/plain": [
       "Text(0.5, 0, 'Salutation')"
      ]
     },
     "execution_count": 43,
     "metadata": {},
     "output_type": "execute_result"
    },
    {
     "data": {
      "image/png": "[encoded data removed]",
      "text/plain": [
       "<Figure size 1080x288 with 1 Axes>"
      ]
     },
     "metadata": {},
     "output_type": "display_data"
    }
   ],
   "source": [
    "barplot = dataset[\"Salutation\"].value_counts().plot(kind='bar', figsize=(15,4), color='y')\n",
    "for bar in barplot.patches:\n",
    "    yval = bar.get_height()\n",
    "    barplot.text(bar.get_x()+(-0.2) + bar.get_width()/2.0, yval, int(yval))\n",
    "    \n",
    "barplot.set_ylabel(\"Count\")\n",
    "barplot.set_xlabel(\"Salutation\")"
   ]
  },
  {
   "cell_type": "markdown",
   "metadata": {},
   "source": [
    "* Let us group less frequent salutations together."
   ]
  },
  {
   "cell_type": "code",
   "execution_count": 44,
   "metadata": {},
   "outputs": [
    {
     "data": {
      "text/plain": [
       "Text(0.5, 0, 'Salutation')"
      ]
     },
     "execution_count": 44,
     "metadata": {},
     "output_type": "execute_result"
    },
    {
     "data": {
      "image/png": "[encoded data removed]",
      "text/plain": [
       "<Figure size 432x288 with 1 Axes>"
      ]
     },
     "metadata": {},
     "output_type": "display_data"
    }
   ],
   "source": [
    "dataset['Salutation'] = dataset['Salutation'].replace(['Dr', 'Rev', 'Col', 'Major', 'the Countess', 'Sir', 'Jonkheer', 'Lady', 'Capt', 'Dona'], 'Others')\n",
    "dataset['Salutation'] = dataset['Salutation'].replace(['Mlle','Ms'], 'Miss')\n",
    "dataset['Salutation'] = dataset['Salutation'].replace('Mme', 'Mrs')\n",
    "barplot = dataset[\"Salutation\"].value_counts().plot(kind='bar', color='y')\n",
    "for bar in barplot.patches:\n",
    "    yval = bar.get_height()\n",
    "    barplot.text(bar.get_x()+(-0.2) + bar.get_width()/2.0, yval, int(yval))\n",
    "barplot.set_title(\"Count of each Salutations\")\n",
    "barplot.set_ylabel(\"Count\")\n",
    "barplot.set_xlabel(\"Salutation\")"
   ]
  },
  {
   "cell_type": "code",
   "execution_count": 45,
   "metadata": {},
   "outputs": [
    {
     "data": {
      "text/plain": [
       "<seaborn.axisgrid.FacetGrid at 0x10f00af0>"
      ]
     },
     "execution_count": 45,
     "metadata": {},
     "output_type": "execute_result"
    },
    {
     "data": {
      "image/png": "[encoded data removed]",
      "text/plain": [
       "<Figure size 360x360 with 1 Axes>"
      ]
     },
     "metadata": {},
     "output_type": "display_data"
    }
   ],
   "source": [
    "g = sns.factorplot(x=\"Salutation\",y=\"Survived\",data=dataset,kind=\"bar\")\n",
    "g.set_axis_labels(y_var='Survival Probability')"
   ]
  },
  {
   "cell_type": "markdown",
   "metadata": {},
   "source": [
    "* Females and Male Children had greater probabilities of survival, followed by Others."
   ]
  },
  {
   "cell_type": "code",
   "execution_count": 46,
   "metadata": {},
   "outputs": [],
   "source": [
    "titles = {\"Mr\": 1, \"Mrs\": 2,\"Miss\": 3, \"Master\": 4, \"Others\": 5}\n",
    "dataset['Salutation'] = dataset['Salutation'].map(titles)\n",
    "\n",
    "# # filling NaN with 0, to get safe\n",
    "dataset['Salutation'] = dataset['Salutation'].fillna(0)"
   ]
  },
  {
   "cell_type": "code",
   "execution_count": 47,
   "metadata": {},
   "outputs": [],
   "source": [
    "dataset.drop(labels = [\"Name\"], axis = 1, inplace = True)"
   ]
  },
  {
   "cell_type": "code",
   "execution_count": 48,
   "metadata": {},
   "outputs": [
    {
     "data": {
      "text/html": [
       "<div>\n",
       "<style scoped>\n",
       "    .dataframe tbody tr th:only-of-type {\n",
       "        vertical-align: middle;\n",
       "    }\n",
       "\n",
       "    .dataframe tbody tr th {\n",
       "        vertical-align: top;\n",
       "    }\n",
       "\n",
       "    .dataframe thead th {\n",
       "        text-align: right;\n",
       "    }\n",
       "</style>\n",
       "<table border=\"1\" class=\"dataframe\">\n",
       "  <thead>\n",
       "    <tr style=\"text-align: right;\">\n",
       "      <th></th>\n",
       "      <th>PassengerId</th>\n",
       "      <th>Survived</th>\n",
       "      <th>Pclass</th>\n",
       "      <th>Sex</th>\n",
       "      <th>Age</th>\n",
       "      <th>SibSp</th>\n",
       "      <th>Parch</th>\n",
       "      <th>Ticket</th>\n",
       "      <th>Fare</th>\n",
       "      <th>Cabin</th>\n",
       "      <th>Embarked</th>\n",
       "      <th>Salutation</th>\n",
       "    </tr>\n",
       "  </thead>\n",
       "  <tbody>\n",
       "    <tr>\n",
       "      <th>0</th>\n",
       "      <td>1</td>\n",
       "      <td>0.0</td>\n",
       "      <td>3</td>\n",
       "      <td>0</td>\n",
       "      <td>22.0</td>\n",
       "      <td>1</td>\n",
       "      <td>0</td>\n",
       "      <td>A/5 21171</td>\n",
       "      <td>1.981001</td>\n",
       "      <td>NaN</td>\n",
       "      <td>S</td>\n",
       "      <td>1.0</td>\n",
       "    </tr>\n",
       "    <tr>\n",
       "      <th>1</th>\n",
       "      <td>2</td>\n",
       "      <td>1.0</td>\n",
       "      <td>1</td>\n",
       "      <td>1</td>\n",
       "      <td>38.0</td>\n",
       "      <td>1</td>\n",
       "      <td>0</td>\n",
       "      <td>PC 17599</td>\n",
       "      <td>4.266662</td>\n",
       "      <td>C85</td>\n",
       "      <td>C</td>\n",
       "      <td>2.0</td>\n",
       "    </tr>\n",
       "    <tr>\n",
       "      <th>2</th>\n",
       "      <td>3</td>\n",
       "      <td>1.0</td>\n",
       "      <td>3</td>\n",
       "      <td>1</td>\n",
       "      <td>26.0</td>\n",
       "      <td>0</td>\n",
       "      <td>0</td>\n",
       "      <td>STON/O2. 3101282</td>\n",
       "      <td>2.070022</td>\n",
       "      <td>NaN</td>\n",
       "      <td>S</td>\n",
       "      <td>3.0</td>\n",
       "    </tr>\n",
       "    <tr>\n",
       "      <th>3</th>\n",
       "      <td>4</td>\n",
       "      <td>1.0</td>\n",
       "      <td>1</td>\n",
       "      <td>1</td>\n",
       "      <td>35.0</td>\n",
       "      <td>1</td>\n",
       "      <td>0</td>\n",
       "      <td>113803</td>\n",
       "      <td>3.972177</td>\n",
       "      <td>C123</td>\n",
       "      <td>S</td>\n",
       "      <td>2.0</td>\n",
       "    </tr>\n",
       "    <tr>\n",
       "      <th>4</th>\n",
       "      <td>5</td>\n",
       "      <td>0.0</td>\n",
       "      <td>3</td>\n",
       "      <td>0</td>\n",
       "      <td>35.0</td>\n",
       "      <td>0</td>\n",
       "      <td>0</td>\n",
       "      <td>373450</td>\n",
       "      <td>2.085672</td>\n",
       "      <td>NaN</td>\n",
       "      <td>S</td>\n",
       "      <td>1.0</td>\n",
       "    </tr>\n",
       "  </tbody>\n",
       "</table>\n",
       "</div>"
      ],
      "text/plain": [
       "   PassengerId  Survived  Pclass  Sex   Age  SibSp  Parch            Ticket  \\\n",
       "0            1       0.0       3    0  22.0      1      0         A/5 21171   \n",
       "1            2       1.0       1    1  38.0      1      0          PC 17599   \n",
       "2            3       1.0       3    1  26.0      0      0  STON/O2. 3101282   \n",
       "3            4       1.0       1    1  35.0      1      0            113803   \n",
       "4            5       0.0       3    0  35.0      0      0            373450   \n",
       "\n",
       "       Fare Cabin Embarked  Salutation  \n",
       "0  1.981001   NaN        S         1.0  \n",
       "1  4.266662   C85        C         2.0  \n",
       "2  2.070022   NaN        S         3.0  \n",
       "3  3.972177  C123        S         2.0  \n",
       "4  2.085672   NaN        S         1.0  "
      ]
     },
     "execution_count": 48,
     "metadata": {},
     "output_type": "execute_result"
    }
   ],
   "source": [
    "dataset.head()"
   ]
  },
  {
   "cell_type": "markdown",
   "metadata": {},
   "source": [
    "#### *Family Size*"
   ]
  },
  {
   "cell_type": "markdown",
   "metadata": {},
   "source": [
    "* From the data analysis part, we concluded that it might be useful to combine Parch and SibSp, owing to our thought that larger families might have had difficulties escaping from the danger while waiting for their deat ones.\n",
    "* So let us create a new feature Fsize representing the family size."
   ]
  },
  {
   "cell_type": "code",
   "execution_count": 49,
   "metadata": {},
   "outputs": [
    {
     "data": {
      "image/png": "[encoded data removed]",
      "text/plain": [
       "<Figure size 360x360 with 1 Axes>"
      ]
     },
     "metadata": {},
     "output_type": "display_data"
    }
   ],
   "source": [
    "dataset['Fsize'] = dataset['Parch']+dataset['SibSp']+1\n",
    "g = sns.factorplot(x=\"Fsize\",y=\"Survived\",data = dataset)\n",
    "g = g.set_ylabels(\"Survival Probability\")"
   ]
  },
  {
   "cell_type": "markdown",
   "metadata": {},
   "source": [
    "* Individuals with no family and larger families had poor survival probabilities."
   ]
  },
  {
   "cell_type": "code",
   "execution_count": 50,
   "metadata": {},
   "outputs": [
    {
     "data": {
      "text/html": [
       "<div>\n",
       "<style scoped>\n",
       "    .dataframe tbody tr th:only-of-type {\n",
       "        vertical-align: middle;\n",
       "    }\n",
       "\n",
       "    .dataframe tbody tr th {\n",
       "        vertical-align: top;\n",
       "    }\n",
       "\n",
       "    .dataframe thead th {\n",
       "        text-align: right;\n",
       "    }\n",
       "</style>\n",
       "<table border=\"1\" class=\"dataframe\">\n",
       "  <thead>\n",
       "    <tr style=\"text-align: right;\">\n",
       "      <th></th>\n",
       "      <th>PassengerId</th>\n",
       "      <th>Survived</th>\n",
       "      <th>Pclass</th>\n",
       "      <th>Sex</th>\n",
       "      <th>Age</th>\n",
       "      <th>SibSp</th>\n",
       "      <th>Parch</th>\n",
       "      <th>Ticket</th>\n",
       "      <th>Fare</th>\n",
       "      <th>Cabin</th>\n",
       "      <th>Embarked</th>\n",
       "      <th>Salutation</th>\n",
       "      <th>Fsize</th>\n",
       "    </tr>\n",
       "  </thead>\n",
       "  <tbody>\n",
       "    <tr>\n",
       "      <th>0</th>\n",
       "      <td>1</td>\n",
       "      <td>0.0</td>\n",
       "      <td>3</td>\n",
       "      <td>0</td>\n",
       "      <td>22.0</td>\n",
       "      <td>1</td>\n",
       "      <td>0</td>\n",
       "      <td>A/5 21171</td>\n",
       "      <td>1.981001</td>\n",
       "      <td>NaN</td>\n",
       "      <td>S</td>\n",
       "      <td>1.0</td>\n",
       "      <td>2</td>\n",
       "    </tr>\n",
       "    <tr>\n",
       "      <th>1</th>\n",
       "      <td>2</td>\n",
       "      <td>1.0</td>\n",
       "      <td>1</td>\n",
       "      <td>1</td>\n",
       "      <td>38.0</td>\n",
       "      <td>1</td>\n",
       "      <td>0</td>\n",
       "      <td>PC 17599</td>\n",
       "      <td>4.266662</td>\n",
       "      <td>C85</td>\n",
       "      <td>C</td>\n",
       "      <td>2.0</td>\n",
       "      <td>2</td>\n",
       "    </tr>\n",
       "    <tr>\n",
       "      <th>2</th>\n",
       "      <td>3</td>\n",
       "      <td>1.0</td>\n",
       "      <td>3</td>\n",
       "      <td>1</td>\n",
       "      <td>26.0</td>\n",
       "      <td>0</td>\n",
       "      <td>0</td>\n",
       "      <td>STON/O2. 3101282</td>\n",
       "      <td>2.070022</td>\n",
       "      <td>NaN</td>\n",
       "      <td>S</td>\n",
       "      <td>3.0</td>\n",
       "      <td>1</td>\n",
       "    </tr>\n",
       "    <tr>\n",
       "      <th>3</th>\n",
       "      <td>4</td>\n",
       "      <td>1.0</td>\n",
       "      <td>1</td>\n",
       "      <td>1</td>\n",
       "      <td>35.0</td>\n",
       "      <td>1</td>\n",
       "      <td>0</td>\n",
       "      <td>113803</td>\n",
       "      <td>3.972177</td>\n",
       "      <td>C123</td>\n",
       "      <td>S</td>\n",
       "      <td>2.0</td>\n",
       "      <td>2</td>\n",
       "    </tr>\n",
       "    <tr>\n",
       "      <th>4</th>\n",
       "      <td>5</td>\n",
       "      <td>0.0</td>\n",
       "      <td>3</td>\n",
       "      <td>0</td>\n",
       "      <td>35.0</td>\n",
       "      <td>0</td>\n",
       "      <td>0</td>\n",
       "      <td>373450</td>\n",
       "      <td>2.085672</td>\n",
       "      <td>NaN</td>\n",
       "      <td>S</td>\n",
       "      <td>1.0</td>\n",
       "      <td>1</td>\n",
       "    </tr>\n",
       "  </tbody>\n",
       "</table>\n",
       "</div>"
      ],
      "text/plain": [
       "   PassengerId  Survived  Pclass  Sex   Age  SibSp  Parch            Ticket  \\\n",
       "0            1       0.0       3    0  22.0      1      0         A/5 21171   \n",
       "1            2       1.0       1    1  38.0      1      0          PC 17599   \n",
       "2            3       1.0       3    1  26.0      0      0  STON/O2. 3101282   \n",
       "3            4       1.0       1    1  35.0      1      0            113803   \n",
       "4            5       0.0       3    0  35.0      0      0            373450   \n",
       "\n",
       "       Fare Cabin Embarked  Salutation  Fsize  \n",
       "0  1.981001   NaN        S         1.0      2  \n",
       "1  4.266662   C85        C         2.0      2  \n",
       "2  2.070022   NaN        S         3.0      1  \n",
       "3  3.972177  C123        S         2.0      2  \n",
       "4  2.085672   NaN        S         1.0      1  "
      ]
     },
     "execution_count": 50,
     "metadata": {},
     "output_type": "execute_result"
    }
   ],
   "source": [
    "dataset.head()"
   ]
  },
  {
   "cell_type": "markdown",
   "metadata": {},
   "source": [
    "#### Embarked"
   ]
  },
  {
   "cell_type": "code",
   "execution_count": 51,
   "metadata": {},
   "outputs": [],
   "source": [
    "ports = {\"S\": 0, \"C\": 1, \"Q\": 2}\n",
    "\n",
    "dataset['Embarked'] = dataset['Embarked'].map(ports)"
   ]
  },
  {
   "cell_type": "markdown",
   "metadata": {},
   "source": [
    "#### Drop PassengerId"
   ]
  },
  {
   "cell_type": "code",
   "execution_count": 52,
   "metadata": {},
   "outputs": [],
   "source": [
    "dataset.drop(labels = [\"PassengerId\"], axis = 1, inplace = True)"
   ]
  },
  {
   "cell_type": "code",
   "execution_count": 53,
   "metadata": {},
   "outputs": [
    {
     "data": {
      "text/html": [
       "<div>\n",
       "<style scoped>\n",
       "    .dataframe tbody tr th:only-of-type {\n",
       "        vertical-align: middle;\n",
       "    }\n",
       "\n",
       "    .dataframe tbody tr th {\n",
       "        vertical-align: top;\n",
       "    }\n",
       "\n",
       "    .dataframe thead th {\n",
       "        text-align: right;\n",
       "    }\n",
       "</style>\n",
       "<table border=\"1\" class=\"dataframe\">\n",
       "  <thead>\n",
       "    <tr style=\"text-align: right;\">\n",
       "      <th></th>\n",
       "      <th>Survived</th>\n",
       "      <th>Pclass</th>\n",
       "      <th>Sex</th>\n",
       "      <th>Age</th>\n",
       "      <th>SibSp</th>\n",
       "      <th>Parch</th>\n",
       "      <th>Ticket</th>\n",
       "      <th>Fare</th>\n",
       "      <th>Cabin</th>\n",
       "      <th>Embarked</th>\n",
       "      <th>Salutation</th>\n",
       "      <th>Fsize</th>\n",
       "    </tr>\n",
       "  </thead>\n",
       "  <tbody>\n",
       "    <tr>\n",
       "      <th>0</th>\n",
       "      <td>0.0</td>\n",
       "      <td>3</td>\n",
       "      <td>0</td>\n",
       "      <td>22.0</td>\n",
       "      <td>1</td>\n",
       "      <td>0</td>\n",
       "      <td>A/5 21171</td>\n",
       "      <td>1.981001</td>\n",
       "      <td>NaN</td>\n",
       "      <td>0</td>\n",
       "      <td>1.0</td>\n",
       "      <td>2</td>\n",
       "    </tr>\n",
       "    <tr>\n",
       "      <th>1</th>\n",
       "      <td>1.0</td>\n",
       "      <td>1</td>\n",
       "      <td>1</td>\n",
       "      <td>38.0</td>\n",
       "      <td>1</td>\n",
       "      <td>0</td>\n",
       "      <td>PC 17599</td>\n",
       "      <td>4.266662</td>\n",
       "      <td>C85</td>\n",
       "      <td>1</td>\n",
       "      <td>2.0</td>\n",
       "      <td>2</td>\n",
       "    </tr>\n",
       "    <tr>\n",
       "      <th>2</th>\n",
       "      <td>1.0</td>\n",
       "      <td>3</td>\n",
       "      <td>1</td>\n",
       "      <td>26.0</td>\n",
       "      <td>0</td>\n",
       "      <td>0</td>\n",
       "      <td>STON/O2. 3101282</td>\n",
       "      <td>2.070022</td>\n",
       "      <td>NaN</td>\n",
       "      <td>0</td>\n",
       "      <td>3.0</td>\n",
       "      <td>1</td>\n",
       "    </tr>\n",
       "    <tr>\n",
       "      <th>3</th>\n",
       "      <td>1.0</td>\n",
       "      <td>1</td>\n",
       "      <td>1</td>\n",
       "      <td>35.0</td>\n",
       "      <td>1</td>\n",
       "      <td>0</td>\n",
       "      <td>113803</td>\n",
       "      <td>3.972177</td>\n",
       "      <td>C123</td>\n",
       "      <td>0</td>\n",
       "      <td>2.0</td>\n",
       "      <td>2</td>\n",
       "    </tr>\n",
       "    <tr>\n",
       "      <th>4</th>\n",
       "      <td>0.0</td>\n",
       "      <td>3</td>\n",
       "      <td>0</td>\n",
       "      <td>35.0</td>\n",
       "      <td>0</td>\n",
       "      <td>0</td>\n",
       "      <td>373450</td>\n",
       "      <td>2.085672</td>\n",
       "      <td>NaN</td>\n",
       "      <td>0</td>\n",
       "      <td>1.0</td>\n",
       "      <td>1</td>\n",
       "    </tr>\n",
       "  </tbody>\n",
       "</table>\n",
       "</div>"
      ],
      "text/plain": [
       "   Survived  Pclass  Sex   Age  SibSp  Parch            Ticket      Fare  \\\n",
       "0       0.0       3    0  22.0      1      0         A/5 21171  1.981001   \n",
       "1       1.0       1    1  38.0      1      0          PC 17599  4.266662   \n",
       "2       1.0       3    1  26.0      0      0  STON/O2. 3101282  2.070022   \n",
       "3       1.0       1    1  35.0      1      0            113803  3.972177   \n",
       "4       0.0       3    0  35.0      0      0            373450  2.085672   \n",
       "\n",
       "  Cabin  Embarked  Salutation  Fsize  \n",
       "0   NaN         0         1.0      2  \n",
       "1   C85         1         2.0      2  \n",
       "2   NaN         0         3.0      1  \n",
       "3  C123         0         2.0      2  \n",
       "4   NaN         0         1.0      1  "
      ]
     },
     "execution_count": 53,
     "metadata": {},
     "output_type": "execute_result"
    }
   ],
   "source": [
    "dataset.head()"
   ]
  },
  {
   "cell_type": "markdown",
   "metadata": {},
   "source": [
    "#### Cabin"
   ]
  },
  {
   "cell_type": "markdown",
   "metadata": {},
   "source": [
    "* Owing to a significant percentage of missing values for *Cabin*, I thought of removing the column.\n",
    "* But I had a thought that having *Cabin* might have influenced influence survival probability.\n",
    "* Let us explore deeper about *Cabin*."
   ]
  },
  {
   "cell_type": "code",
   "execution_count": 54,
   "metadata": {},
   "outputs": [
    {
     "data": {
      "text/plain": [
       "count             295\n",
       "unique            186\n",
       "top       C23 C25 C27\n",
       "freq                6\n",
       "Name: Cabin, dtype: object"
      ]
     },
     "execution_count": 54,
     "metadata": {},
     "output_type": "execute_result"
    }
   ],
   "source": [
    "dataset[\"Cabin\"].describe()"
   ]
  },
  {
   "cell_type": "code",
   "execution_count": 55,
   "metadata": {},
   "outputs": [
    {
     "data": {
      "text/plain": [
       "1      C85\n",
       "3     C123\n",
       "6      E46\n",
       "10      G6\n",
       "11    C103\n",
       "Name: Cabin, dtype: object"
      ]
     },
     "execution_count": 55,
     "metadata": {},
     "output_type": "execute_result"
    }
   ],
   "source": [
    "dataset[\"Cabin\"][dataset[\"Cabin\"].notnull()].head()"
   ]
  },
  {
   "cell_type": "code",
   "execution_count": 56,
   "metadata": {},
   "outputs": [],
   "source": [
    "dataset[\"Cabin\"] = pd.Series([i[0] if not pd.isnull(i) else 'X' for i in dataset['Cabin'] ])"
   ]
  },
  {
   "cell_type": "code",
   "execution_count": 57,
   "metadata": {},
   "outputs": [
    {
     "data": {
      "text/plain": [
       "array(['X', 'C', 'E', 'G', 'D', 'A', 'B', 'F', 'T'], dtype=object)"
      ]
     },
     "execution_count": 57,
     "metadata": {},
     "output_type": "execute_result"
    }
   ],
   "source": [
    "dataset.Cabin.unique()"
   ]
  },
  {
   "cell_type": "code",
   "execution_count": 58,
   "metadata": {},
   "outputs": [
    {
     "data": {
      "image/png": "[encoded data removed]",
      "text/plain": [
       "<Figure size 432x288 with 1 Axes>"
      ]
     },
     "metadata": {},
     "output_type": "display_data"
    }
   ],
   "source": [
    "g = sns.countplot(dataset[\"Cabin\"],order=['A','B','C','D','E','F','G','T','X'])\n",
    "for bar in g.patches:\n",
    "    yval = bar.get_height()\n",
    "    g.text(bar.get_x()+(-0.2) + bar.get_width()/2.0, yval, int(yval))"
   ]
  },
  {
   "cell_type": "code",
   "execution_count": 59,
   "metadata": {},
   "outputs": [
    {
     "data": {
      "image/png": "[encoded data removed]",
      "text/plain": [
       "<Figure size 360x360 with 1 Axes>"
      ]
     },
     "metadata": {},
     "output_type": "display_data"
    }
   ],
   "source": [
    "g = sns.factorplot(y=\"Survived\",x=\"Cabin\",data=dataset,kind=\"bar\",order=['A','B','C','D','E','F','G','T','X'])\n",
    "g = g.set_ylabels(\"Survival Probability\")"
   ]
  },
  {
   "cell_type": "markdown",
   "metadata": {},
   "source": [
    "* Thus it is evident that passengers without Cabin had the least probability of survival."
   ]
  },
  {
   "cell_type": "code",
   "execution_count": 60,
   "metadata": {},
   "outputs": [
    {
     "data": {
      "text/html": [
       "<div>\n",
       "<style scoped>\n",
       "    .dataframe tbody tr th:only-of-type {\n",
       "        vertical-align: middle;\n",
       "    }\n",
       "\n",
       "    .dataframe tbody tr th {\n",
       "        vertical-align: top;\n",
       "    }\n",
       "\n",
       "    .dataframe thead th {\n",
       "        text-align: right;\n",
       "    }\n",
       "</style>\n",
       "<table border=\"1\" class=\"dataframe\">\n",
       "  <thead>\n",
       "    <tr style=\"text-align: right;\">\n",
       "      <th></th>\n",
       "      <th>Survived</th>\n",
       "      <th>Pclass</th>\n",
       "      <th>Sex</th>\n",
       "      <th>Age</th>\n",
       "      <th>SibSp</th>\n",
       "      <th>Parch</th>\n",
       "      <th>Ticket</th>\n",
       "      <th>Fare</th>\n",
       "      <th>Cabin</th>\n",
       "      <th>Embarked</th>\n",
       "      <th>Salutation</th>\n",
       "      <th>Fsize</th>\n",
       "    </tr>\n",
       "  </thead>\n",
       "  <tbody>\n",
       "    <tr>\n",
       "      <th>0</th>\n",
       "      <td>0.0</td>\n",
       "      <td>3</td>\n",
       "      <td>0</td>\n",
       "      <td>22.0</td>\n",
       "      <td>1</td>\n",
       "      <td>0</td>\n",
       "      <td>A/5 21171</td>\n",
       "      <td>1.981001</td>\n",
       "      <td>9</td>\n",
       "      <td>0</td>\n",
       "      <td>1.0</td>\n",
       "      <td>2</td>\n",
       "    </tr>\n",
       "    <tr>\n",
       "      <th>1</th>\n",
       "      <td>1.0</td>\n",
       "      <td>1</td>\n",
       "      <td>1</td>\n",
       "      <td>38.0</td>\n",
       "      <td>1</td>\n",
       "      <td>0</td>\n",
       "      <td>PC 17599</td>\n",
       "      <td>4.266662</td>\n",
       "      <td>3</td>\n",
       "      <td>1</td>\n",
       "      <td>2.0</td>\n",
       "      <td>2</td>\n",
       "    </tr>\n",
       "    <tr>\n",
       "      <th>2</th>\n",
       "      <td>1.0</td>\n",
       "      <td>3</td>\n",
       "      <td>1</td>\n",
       "      <td>26.0</td>\n",
       "      <td>0</td>\n",
       "      <td>0</td>\n",
       "      <td>STON/O2. 3101282</td>\n",
       "      <td>2.070022</td>\n",
       "      <td>9</td>\n",
       "      <td>0</td>\n",
       "      <td>3.0</td>\n",
       "      <td>1</td>\n",
       "    </tr>\n",
       "    <tr>\n",
       "      <th>3</th>\n",
       "      <td>1.0</td>\n",
       "      <td>1</td>\n",
       "      <td>1</td>\n",
       "      <td>35.0</td>\n",
       "      <td>1</td>\n",
       "      <td>0</td>\n",
       "      <td>113803</td>\n",
       "      <td>3.972177</td>\n",
       "      <td>3</td>\n",
       "      <td>0</td>\n",
       "      <td>2.0</td>\n",
       "      <td>2</td>\n",
       "    </tr>\n",
       "    <tr>\n",
       "      <th>4</th>\n",
       "      <td>0.0</td>\n",
       "      <td>3</td>\n",
       "      <td>0</td>\n",
       "      <td>35.0</td>\n",
       "      <td>0</td>\n",
       "      <td>0</td>\n",
       "      <td>373450</td>\n",
       "      <td>2.085672</td>\n",
       "      <td>9</td>\n",
       "      <td>0</td>\n",
       "      <td>1.0</td>\n",
       "      <td>1</td>\n",
       "    </tr>\n",
       "  </tbody>\n",
       "</table>\n",
       "</div>"
      ],
      "text/plain": [
       "   Survived  Pclass  Sex   Age  SibSp  Parch            Ticket      Fare  \\\n",
       "0       0.0       3    0  22.0      1      0         A/5 21171  1.981001   \n",
       "1       1.0       1    1  38.0      1      0          PC 17599  4.266662   \n",
       "2       1.0       3    1  26.0      0      0  STON/O2. 3101282  2.070022   \n",
       "3       1.0       1    1  35.0      1      0            113803  3.972177   \n",
       "4       0.0       3    0  35.0      0      0            373450  2.085672   \n",
       "\n",
       "   Cabin  Embarked  Salutation  Fsize  \n",
       "0      9         0         1.0      2  \n",
       "1      3         1         2.0      2  \n",
       "2      9         0         3.0      1  \n",
       "3      3         0         2.0      2  \n",
       "4      9         0         1.0      1  "
      ]
     },
     "execution_count": 60,
     "metadata": {},
     "output_type": "execute_result"
    }
   ],
   "source": [
    "cabin_series = {\"A\": 1, \"B\": 2, \"C\": 3, \"D\": 4, \"E\": 5, \"F\": 6, \"G\": 7, \"T\": 8, \"X\":9}\n",
    "dataset['Cabin'] = dataset['Cabin'].map(cabin_series)\n",
    "dataset.head()"
   ]
  },
  {
   "cell_type": "markdown",
   "metadata": {},
   "source": [
    "#### Ticket"
   ]
  },
  {
   "cell_type": "code",
   "execution_count": 61,
   "metadata": {},
   "outputs": [
    {
     "data": {
      "text/plain": [
       "0           A/5 21171\n",
       "1            PC 17599\n",
       "2    STON/O2. 3101282\n",
       "3              113803\n",
       "4              373450\n",
       "Name: Ticket, dtype: object"
      ]
     },
     "execution_count": 61,
     "metadata": {},
     "output_type": "execute_result"
    }
   ],
   "source": [
    "dataset[\"Ticket\"].head()"
   ]
  },
  {
   "cell_type": "code",
   "execution_count": 62,
   "metadata": {},
   "outputs": [
    {
     "data": {
      "text/plain": [
       "0"
      ]
     },
     "execution_count": 62,
     "metadata": {},
     "output_type": "execute_result"
    }
   ],
   "source": [
    "dataset['Ticket'].isnull().sum()"
   ]
  },
  {
   "cell_type": "code",
   "execution_count": 63,
   "metadata": {},
   "outputs": [
    {
     "name": "stdout",
     "output_type": "stream",
     "text": [
      "A/5 21171\n",
      "PC 17599\n",
      "STON/O2. 3101282\n",
      "113803\n",
      "373450\n",
      "330877\n",
      "17463\n",
      "349909\n",
      "347742\n",
      "237736\n",
      "PP 9549\n",
      "113783\n",
      "A/5. 2151\n",
      "347082\n",
      "350406\n",
      "248706\n",
      "382652\n",
      "244373\n",
      "345763\n",
      "2649\n",
      "239865\n",
      "248698\n",
      "330923\n",
      "113788\n",
      "349909\n",
      "347077\n",
      "2631\n",
      "19950\n",
      "330959\n",
      "349216\n",
      "PC 17601\n",
      "PC 17569\n",
      "335677\n",
      "C.A. 24579\n",
      "PC 17604\n",
      "113789\n",
      "2677\n",
      "A./5. 2152\n",
      "345764\n",
      "2651\n",
      "7546\n",
      "11668\n",
      "349253\n",
      "SC/Paris 2123\n",
      "330958\n",
      "S.C./A.4. 23567\n",
      "370371\n",
      "14311\n",
      "2662\n",
      "349237\n",
      "3101295\n",
      "A/4. 39886\n",
      "PC 17572\n",
      "2926\n",
      "113509\n",
      "19947\n",
      "C.A. 31026\n",
      "2697\n",
      "C.A. 34651\n",
      "CA 2144\n",
      "2669\n",
      "113572\n",
      "36973\n",
      "347088\n",
      "PC 17605\n",
      "2661\n",
      "C.A. 29395\n",
      "S.P. 3464\n",
      "3101281\n",
      "315151\n",
      "C.A. 33111\n",
      "CA 2144\n",
      "S.O.C. 14879\n",
      "2680\n",
      "1601\n",
      "348123\n",
      "349208\n",
      "374746\n",
      "248738\n",
      "364516\n",
      "345767\n",
      "345779\n",
      "330932\n",
      "113059\n",
      "SO/C 14885\n",
      "3101278\n",
      "W./C. 6608\n",
      "SOTON/OQ 392086\n",
      "19950\n",
      "343275\n",
      "343276\n",
      "347466\n",
      "W.E.P. 5734\n",
      "C.A. 2315\n",
      "364500\n",
      "374910\n",
      "PC 17754\n",
      "PC 17759\n",
      "231919\n",
      "244367\n",
      "349245\n",
      "349215\n",
      "35281\n",
      "7540\n",
      "3101276\n",
      "349207\n",
      "343120\n",
      "312991\n",
      "349249\n",
      "371110\n",
      "110465\n",
      "2665\n",
      "324669\n",
      "4136\n",
      "2627\n",
      "STON/O 2. 3101294\n",
      "370369\n",
      "11668\n",
      "PC 17558\n",
      "347082\n",
      "S.O.C. 14879\n",
      "A4. 54510\n",
      "237736\n",
      "27267\n",
      "35281\n",
      "2651\n",
      "370372\n",
      "C 17369\n",
      "2668\n",
      "347061\n",
      "349241\n",
      "SOTON/O.Q. 3101307\n",
      "A/5. 3337\n",
      "228414\n",
      "C.A. 29178\n",
      "SC/PARIS 2133\n",
      "11752\n",
      "113803\n",
      "7534\n",
      "PC 17593\n",
      "2678\n",
      "347081\n",
      "STON/O2. 3101279\n",
      "365222\n",
      "231945\n",
      "C.A. 33112\n",
      "350043\n",
      "W./C. 6608\n",
      "230080\n",
      "244310\n",
      "S.O.P. 1166\n",
      "113776\n",
      "A.5. 11206\n",
      "A/5. 851\n",
      "Fa 265302\n",
      "PC 17597\n",
      "35851\n",
      "SOTON/OQ 392090\n",
      "315037\n",
      "CA. 2343\n",
      "371362\n",
      "C.A. 33595\n",
      "347068\n",
      "315093\n",
      "3101295\n",
      "363291\n",
      "113505\n",
      "347088\n",
      "PC 17318\n",
      "1601\n",
      "111240\n",
      "382652\n",
      "347742\n",
      "STON/O 2. 3101280\n",
      "17764\n",
      "350404\n",
      "4133\n",
      "PC 17595\n",
      "250653\n",
      "LINE\n",
      "CA. 2343\n",
      "SC/PARIS 2131\n",
      "347077\n",
      "230136\n",
      "315153\n",
      "113767\n",
      "370365\n",
      "111428\n",
      "364849\n",
      "349247\n",
      "234604\n",
      "28424\n",
      "350046\n",
      "230080\n",
      "PC 17610\n",
      "PC 17569\n",
      "368703\n",
      "4579\n",
      "370370\n",
      "248747\n",
      "345770\n",
      "CA. 2343\n",
      "3101264\n",
      "2628\n",
      "A/5 3540\n",
      "347054\n",
      "3101278\n",
      "2699\n",
      "367231\n",
      "112277\n",
      "SOTON/O.Q. 3101311\n",
      "F.C.C. 13528\n",
      "A/5 21174\n",
      "250646\n",
      "367229\n",
      "35273\n",
      "STON/O2. 3101283\n",
      "243847\n",
      "11813\n",
      "W/C 14208\n",
      "SOTON/OQ 392089\n",
      "220367\n",
      "21440\n",
      "349234\n",
      "19943\n",
      "PP 4348\n",
      "SW/PP 751\n",
      "A/5 21173\n",
      "236171\n",
      "4133\n",
      "36973\n",
      "347067\n",
      "237442\n",
      "347077\n",
      "C.A. 29566\n",
      "W./C. 6609\n",
      "26707\n",
      "C.A. 31921\n",
      "28665\n",
      "SCO/W 1585\n",
      "2665\n",
      "367230\n",
      "W./C. 14263\n",
      "STON/O 2. 3101275\n",
      "2694\n",
      "19928\n",
      "347071\n",
      "250649\n",
      "11751\n",
      "244252\n",
      "362316\n",
      "347054\n",
      "113514\n",
      "A/5. 3336\n",
      "370129\n",
      "2650\n",
      "PC 17585\n",
      "110152\n",
      "PC 17755\n",
      "230433\n",
      "384461\n",
      "347077\n",
      "110413\n",
      "112059\n",
      "382649\n",
      "C.A. 17248\n",
      "3101295\n",
      "347083\n",
      "PC 17582\n",
      "PC 17760\n",
      "113798\n",
      "LINE\n",
      "250644\n",
      "PC 17596\n",
      "370375\n",
      "13502\n",
      "347073\n",
      "239853\n",
      "382652\n",
      "C.A. 2673\n",
      "336439\n",
      "347464\n",
      "345778\n",
      "A/5. 10482\n",
      "113056\n",
      "349239\n",
      "345774\n",
      "349206\n",
      "237798\n",
      "370373\n",
      "19877\n",
      "11967\n",
      "SC/Paris 2163\n",
      "349236\n",
      "349233\n",
      "PC 17612\n",
      "2693\n",
      "113781\n",
      "19988\n",
      "PC 17558\n",
      "9234\n",
      "367226\n",
      "LINE\n",
      "226593\n",
      "A/5 2466\n",
      "113781\n",
      "17421\n",
      "PC 17758\n",
      "P/PP 3381\n",
      "PC 17485\n",
      "11767\n",
      "PC 17608\n",
      "250651\n",
      "349243\n",
      "F.C.C. 13529\n",
      "347470\n",
      "244367\n",
      "29011\n",
      "36928\n",
      "16966\n",
      "A/5 21172\n",
      "349219\n",
      "234818\n",
      "248738\n",
      "CA. 2343\n",
      "PC 17760\n",
      "345364\n",
      "28551\n",
      "363291\n",
      "111361\n",
      "367226\n",
      "113043\n",
      "PC 17582\n",
      "345764\n",
      "PC 17611\n",
      "349225\n",
      "113776\n",
      "16966\n",
      "7598\n",
      "113784\n",
      "230080\n",
      "19950\n",
      "248740\n",
      "244361\n",
      "229236\n",
      "248733\n",
      "31418\n",
      "386525\n",
      "C.A. 37671\n",
      "315088\n",
      "7267\n",
      "113510\n",
      "2695\n",
      "349237\n",
      "2647\n",
      "345783\n",
      "113505\n",
      "237671\n",
      "330931\n",
      "330980\n",
      "347088\n",
      "SC/PARIS 2167\n",
      "2691\n",
      "SOTON/O.Q. 3101310\n",
      "370365\n",
      "C 7076\n",
      "110813\n",
      "2626\n",
      "14313\n",
      "PC 17477\n",
      "11765\n",
      "3101267\n",
      "323951\n",
      "PC 17760\n",
      "349909\n",
      "PC 17604\n",
      "C 7077\n",
      "113503\n",
      "2648\n",
      "347069\n",
      "PC 17757\n",
      "2653\n",
      "STON/O 2. 3101293\n",
      "113789\n",
      "349227\n",
      "S.O.C. 14879\n",
      "CA 2144\n",
      "27849\n",
      "367655\n",
      "SC 1748\n",
      "113760\n",
      "350034\n",
      "3101277\n",
      "35273\n",
      "PP 9549\n",
      "350052\n",
      "350407\n",
      "28403\n",
      "244278\n",
      "240929\n",
      "STON/O 2. 3101289\n",
      "341826\n",
      "4137\n",
      "STON/O2. 3101279\n",
      "315096\n",
      "28664\n",
      "347064\n",
      "29106\n",
      "312992\n",
      "4133\n",
      "349222\n",
      "394140\n",
      "19928\n",
      "239853\n",
      "STON/O 2. 3101269\n",
      "343095\n",
      "28220\n",
      "250652\n",
      "28228\n",
      "345773\n",
      "349254\n",
      "A/5. 13032\n",
      "315082\n",
      "347080\n",
      "370129\n",
      "A/4. 34244\n",
      "2003\n",
      "250655\n",
      "364851\n",
      "SOTON/O.Q. 392078\n",
      "110564\n",
      "376564\n",
      "SC/AH 3085\n",
      "STON/O 2. 3101274\n",
      "13507\n",
      "113760\n",
      "W./C. 6608\n",
      "29106\n",
      "19950\n",
      "C.A. 18723\n",
      "F.C.C. 13529\n",
      "345769\n",
      "347076\n",
      "230434\n",
      "65306\n",
      "33638\n",
      "250644\n",
      "113794\n",
      "2666\n",
      "113786\n",
      "C.A. 34651\n",
      "65303\n",
      "113051\n",
      "17453\n",
      "A/5 2817\n",
      "349240\n",
      "13509\n",
      "17464\n",
      "F.C.C. 13531\n",
      "371060\n",
      "19952\n",
      "364506\n",
      "111320\n",
      "234360\n",
      "A/S 2816\n",
      "SOTON/O.Q. 3101306\n",
      "239853\n",
      "113792\n",
      "36209\n",
      "2666\n",
      "323592\n",
      "315089\n",
      "C.A. 34651\n",
      "SC/AH Basle 541\n",
      "7553\n",
      "110465\n",
      "31027\n",
      "3460\n",
      "350060\n",
      "3101298\n",
      "CA 2144\n",
      "239854\n",
      "A/5 3594\n",
      "4134\n",
      "11967\n",
      "4133\n",
      "19943\n",
      "11771\n",
      "A.5. 18509\n",
      "C.A. 37671\n",
      "65304\n",
      "SOTON/OQ 3101317\n",
      "113787\n",
      "PC 17609\n",
      "A/4 45380\n",
      "2627\n",
      "36947\n",
      "C.A. 6212\n",
      "113781\n",
      "350035\n",
      "315086\n",
      "364846\n",
      "330909\n",
      "4135\n",
      "110152\n",
      "PC 17758\n",
      "26360\n",
      "111427\n",
      "C 4001\n",
      "1601\n",
      "382651\n",
      "SOTON/OQ 3101316\n",
      "PC 17473\n",
      "PC 17603\n",
      "349209\n",
      "36967\n",
      "C.A. 34260\n",
      "371110\n",
      "226875\n",
      "349242\n",
      "12749\n",
      "349252\n",
      "2624\n",
      "111361\n",
      "2700\n",
      "367232\n",
      "W./C. 14258\n",
      "PC 17483\n",
      "3101296\n",
      "29104\n",
      "26360\n",
      "2641\n",
      "2690\n",
      "2668\n",
      "315084\n",
      "F.C.C. 13529\n",
      "113050\n",
      "PC 17761\n",
      "364498\n",
      "13568\n",
      "WE/P 5735\n",
      "347082\n",
      "347082\n",
      "2908\n",
      "PC 17761\n",
      "693\n",
      "2908\n",
      "SC/PARIS 2146\n",
      "363291\n",
      "C.A. 33112\n",
      "17421\n",
      "244358\n",
      "330979\n",
      "2620\n",
      "347085\n",
      "113807\n",
      "11755\n",
      "PC 17757\n",
      "110413\n",
      "345572\n",
      "372622\n",
      "349251\n",
      "218629\n",
      "SOTON/OQ 392082\n",
      "SOTON/O.Q. 392087\n",
      "A/4 48871\n",
      "349205\n",
      "349909\n",
      "2686\n",
      "350417\n",
      "S.W./PP 752\n",
      "11769\n",
      "PC 17474\n",
      "14312\n",
      "A/4. 20589\n",
      "358585\n",
      "243880\n",
      "13507\n",
      "2689\n",
      "STON/O 2. 3101286\n",
      "237789\n",
      "17421\n",
      "28403\n",
      "13049\n",
      "3411\n",
      "110413\n",
      "237565\n",
      "13567\n",
      "14973\n",
      "A./5. 3235\n",
      "STON/O 2. 3101273\n",
      "36947\n",
      "A/5 3902\n",
      "364848\n",
      "SC/AH 29037\n",
      "345773\n",
      "248727\n",
      "LINE\n",
      "2664\n",
      "PC 17485\n",
      "243847\n",
      "349214\n",
      "113796\n",
      "364511\n",
      "111426\n",
      "349910\n",
      "349246\n",
      "113804\n",
      "SC/Paris 2123\n",
      "PC 17582\n",
      "347082\n",
      "SOTON/O.Q. 3101305\n",
      "367230\n",
      "370377\n",
      "364512\n",
      "220845\n",
      "347080\n",
      "A/5. 3336\n",
      "230136\n",
      "31028\n",
      "2659\n",
      "11753\n",
      "2653\n",
      "350029\n",
      "54636\n",
      "36963\n",
      "219533\n",
      "13502\n",
      "349224\n",
      "334912\n",
      "27042\n",
      "347743\n",
      "13214\n",
      "112052\n",
      "347088\n",
      "237668\n",
      "STON/O 2. 3101292\n",
      "C.A. 31921\n",
      "3101295\n",
      "376564\n",
      "350050\n",
      "PC 17477\n",
      "347088\n",
      "1601\n",
      "2666\n",
      "PC 17572\n",
      "349231\n",
      "13213\n",
      "S.O./P.P. 751\n",
      "CA. 2314\n",
      "349221\n",
      "231919\n",
      "8475\n",
      "330919\n",
      "365226\n",
      "S.O.C. 14879\n",
      "349223\n",
      "364849\n",
      "29751\n",
      "35273\n",
      "PC 17611\n",
      "2623\n",
      "5727\n",
      "349210\n",
      "STON/O 2. 3101285\n",
      "S.O.C. 14879\n",
      "234686\n",
      "312993\n",
      "A/5 3536\n",
      "19996\n",
      "29750\n",
      "F.C. 12750\n",
      "C.A. 24580\n",
      "244270\n",
      "239856\n",
      "349912\n",
      "342826\n",
      "4138\n",
      "CA 2144\n",
      "PC 17755\n",
      "330935\n",
      "PC 17572\n",
      "6563\n",
      "CA 2144\n",
      "29750\n",
      "SC/Paris 2123\n",
      "3101295\n",
      "349228\n",
      "350036\n",
      "24160\n",
      "17474\n",
      "349256\n",
      "1601\n",
      "2672\n",
      "113800\n",
      "248731\n",
      "363592\n",
      "35852\n",
      "17421\n",
      "348121\n",
      "PC 17757\n",
      "PC 17475\n",
      "2691\n",
      "36864\n",
      "350025\n",
      "250655\n",
      "223596\n",
      "PC 17476\n",
      "113781\n",
      "2661\n",
      "PC 17482\n",
      "113028\n",
      "19996\n",
      "7545\n",
      "250647\n",
      "348124\n",
      "PC 17757\n",
      "34218\n",
      "36568\n",
      "347062\n",
      "248727\n",
      "350048\n",
      "12233\n",
      "250643\n",
      "113806\n",
      "315094\n",
      "31027\n",
      "36866\n",
      "236853\n",
      "STON/O2. 3101271\n",
      "24160\n",
      "2699\n",
      "239855\n",
      "28425\n",
      "233639\n",
      "54636\n",
      "W./C. 6608\n",
      "PC 17755\n",
      "349201\n",
      "349218\n",
      "16988\n",
      "19877\n",
      "PC 17608\n",
      "376566\n",
      "STON/O 2. 3101288\n",
      "WE/P 5735\n",
      "C.A. 2673\n",
      "250648\n",
      "113773\n",
      "335097\n",
      "29103\n",
      "392096\n",
      "345780\n",
      "349204\n",
      "220845\n",
      "250649\n",
      "350042\n",
      "29108\n",
      "363294\n",
      "110152\n",
      "358585\n",
      "SOTON/O2 3101272\n",
      "2663\n",
      "113760\n",
      "347074\n",
      "13502\n",
      "112379\n",
      "364850\n",
      "371110\n",
      "8471\n",
      "345781\n",
      "350047\n",
      "S.O./P.P. 3\n",
      "2674\n",
      "29105\n",
      "347078\n",
      "383121\n",
      "364516\n",
      "36865\n",
      "24160\n",
      "2687\n",
      "17474\n",
      "113501\n",
      "W./C. 6607\n",
      "SOTON/O.Q. 3101312\n",
      "374887\n",
      "3101265\n",
      "382652\n",
      "C.A. 2315\n",
      "PC 17593\n",
      "12460\n",
      "239865\n",
      "CA. 2343\n",
      "PC 17600\n",
      "349203\n",
      "28213\n",
      "17465\n",
      "349244\n",
      "2685\n",
      "345773\n",
      "250647\n",
      "C.A. 31921\n",
      "113760\n",
      "2625\n",
      "347089\n",
      "347063\n",
      "112050\n",
      "347087\n",
      "248723\n",
      "113806\n",
      "3474\n",
      "A/4 48871\n",
      "28206\n",
      "347082\n",
      "364499\n",
      "112058\n",
      "STON/O2. 3101290\n",
      "S.C./PARIS 2079\n",
      "C 7075\n",
      "347088\n",
      "12749\n",
      "315098\n",
      "19972\n",
      "392096\n",
      "3101295\n",
      "368323\n",
      "1601\n",
      "S.C./PARIS 2079\n",
      "367228\n",
      "113572\n",
      "2659\n",
      "29106\n",
      "2671\n",
      "347468\n",
      "2223\n",
      "PC 17756\n",
      "315097\n",
      "392092\n",
      "1601\n",
      "11774\n",
      "SOTON/O2 3101287\n",
      "S.O./P.P. 3\n",
      "113798\n",
      "2683\n",
      "315090\n",
      "C.A. 5547\n",
      "CA. 2343\n",
      "349213\n",
      "248727\n",
      "17453\n",
      "347082\n",
      "347060\n",
      "2678\n",
      "PC 17592\n",
      "244252\n",
      "392091\n",
      "36928\n",
      "113055\n",
      "2666\n",
      "2629\n",
      "350026\n",
      "28134\n",
      "17466\n",
      "CA. 2343\n",
      "233866\n",
      "236852\n",
      "SC/PARIS 2149\n",
      "PC 17590\n",
      "345777\n",
      "347742\n",
      "349248\n",
      "11751\n",
      "695\n",
      "345765\n",
      "P/PP 3381\n",
      "2667\n",
      "7534\n",
      "349212\n",
      "349217\n",
      "11767\n",
      "230433\n",
      "349257\n",
      "7552\n",
      "C.A./SOTON 34068\n",
      "SOTON/OQ 392076\n",
      "382652\n",
      "211536\n",
      "112053\n",
      "W./C. 6607\n",
      "111369\n",
      "370376\n",
      "330911\n",
      "363272\n",
      "240276\n",
      "315154\n",
      "3101298\n",
      "7538\n",
      "330972\n",
      "248738\n",
      "2657\n",
      "A/4 48871\n",
      "349220\n",
      "694\n",
      "21228\n",
      "24065\n",
      "W.E.P. 5734\n",
      "SC/PARIS 2167\n",
      "233734\n",
      "2692\n",
      "STON/O2. 3101270\n",
      "2696\n",
      "PC 17603\n",
      "C 17368\n",
      "PC 17598\n",
      "PC 17597\n",
      "PC 17608\n",
      "A/5. 3337\n",
      "113509\n",
      "2698\n",
      "113054\n",
      "2662\n",
      "SC/AH 3085\n",
      "C.A. 31029\n",
      "C.A. 2315\n",
      "W./C. 6607\n",
      "13236\n",
      "2682\n",
      "342712\n",
      "315087\n",
      "345768\n",
      "1601\n",
      "349256\n",
      "113778\n",
      "SOTON/O.Q. 3101263\n",
      "237249\n",
      "11753\n",
      "STON/O 2. 3101291\n",
      "PC 17594\n",
      "370374\n",
      "11813\n",
      "C.A. 37671\n",
      "13695\n",
      "SC/PARIS 2168\n",
      "29105\n",
      "19950\n",
      "SC/A.3 2861\n",
      "382652\n",
      "349230\n",
      "348122\n",
      "386525\n",
      "PC 17608\n",
      "349232\n",
      "237216\n",
      "347090\n",
      "334914\n",
      "PC 17608\n",
      "F.C.C. 13534\n",
      "330963\n",
      "113796\n",
      "2543\n",
      "19950\n",
      "382653\n",
      "349211\n",
      "3101297\n",
      "PC 17562\n",
      "113503\n",
      "113503\n",
      "359306\n",
      "11770\n",
      "248744\n",
      "368702\n",
      "2678\n",
      "PC 17483\n",
      "19924\n",
      "349238\n",
      "240261\n",
      "2660\n",
      "330844\n",
      "A/4 31416\n",
      "364856\n",
      "29103\n",
      "347072\n",
      "345498\n",
      "F.C. 12750\n",
      "376563\n",
      "13905\n",
      "350033\n",
      "19877\n",
      "STON/O 2. 3101268\n",
      "347471\n",
      "A./5. 3338\n",
      "11778\n",
      "228414\n",
      "365235\n",
      "347070\n",
      "2625\n",
      "C 4001\n",
      "330920\n",
      "383162\n",
      "3410\n",
      "248734\n",
      "237734\n",
      "330968\n",
      "PC 17531\n",
      "329944\n",
      "PC 17483\n",
      "2680\n",
      "2681\n",
      "PP 9549\n",
      "13050\n",
      "SC/AH 29037\n",
      "C.A. 33595\n",
      "367227\n",
      "13236\n",
      "392095\n",
      "368783\n",
      "371362\n",
      "350045\n",
      "367226\n",
      "211535\n",
      "342441\n",
      "STON/OQ. 369943\n",
      "113780\n",
      "4133\n",
      "2621\n",
      "349226\n",
      "350409\n",
      "2656\n",
      "248659\n",
      "SOTON/OQ 392083\n",
      "CA 2144\n",
      "CA 2144\n",
      "113781\n",
      "PC 17608\n",
      "244358\n",
      "17475\n",
      "345763\n",
      "17463\n",
      "SC/A4 23568\n",
      "113791\n",
      "250651\n",
      "11767\n",
      "349255\n",
      "3701\n",
      "350405\n",
      "347077\n",
      "S.O./P.P. 752\n",
      "PC 17483\n",
      "347469\n",
      "110489\n",
      "SOTON/O.Q. 3101315\n",
      "335432\n",
      "2650\n",
      "220844\n",
      "343271\n",
      "237393\n",
      "315153\n",
      "PC 17591\n",
      "W./C. 6608\n",
      "17770\n",
      "7548\n",
      "S.O./P.P. 251\n",
      "2670\n",
      "347072\n",
      "2673\n",
      "347077\n",
      "29750\n",
      "C.A. 33112\n",
      "11778\n",
      "230136\n",
      "PC 17756\n",
      "233478\n",
      "PC 17756\n",
      "113773\n",
      "7935\n",
      "PC 17558\n",
      "239059\n",
      "S.O./P.P. 2\n",
      "A/4 48873\n",
      "CA. 2343\n",
      "28221\n",
      "226875\n",
      "111163\n",
      "A/5. 851\n",
      "235509\n",
      "28220\n",
      "347465\n",
      "16966\n",
      "347066\n",
      "C.A. 31030\n",
      "65305\n",
      "36568\n",
      "347080\n",
      "PC 17757\n",
      "26360\n",
      "C.A. 34050\n",
      "F.C. 12998\n",
      "9232\n",
      "28034\n",
      "PC 17613\n",
      "349250\n",
      "C 4001\n",
      "SOTON/O.Q. 3101308\n",
      "S.O.C. 14879\n",
      "24065\n",
      "347091\n",
      "113038\n",
      "330924\n",
      "36928\n",
      "113503\n",
      "32302\n",
      "SC/PARIS 2148\n",
      "342684\n",
      "W./C. 14266\n",
      "350053\n",
      "PC 17606\n",
      "2661\n",
      "350054\n",
      "370368\n",
      "C.A. 6212\n",
      "242963\n",
      "220845\n",
      "113795\n",
      "3101266\n",
      "330971\n",
      "PC 17599\n",
      "350416\n",
      "110813\n",
      "2679\n",
      "250650\n",
      "PC 17761\n",
      "112377\n",
      "237789\n",
      "16966\n",
      "3470\n",
      "W./C. 6607\n",
      "17464\n",
      "F.C.C. 13534\n",
      "28220\n",
      "26707\n",
      "2660\n",
      "C.A. 34651\n",
      "SOTON/O2 3101284\n",
      "13508\n",
      "7266\n",
      "345775\n",
      "C.A. 42795\n",
      "AQ/4 3130\n",
      "363611\n",
      "28404\n",
      "345501\n",
      "345572\n",
      "350410\n",
      "29103\n",
      "350405\n",
      "C.A. 34644\n",
      "349235\n",
      "112051\n",
      "C.A. 49867\n",
      "A. 2. 39186\n",
      "315095\n",
      "13050\n",
      "368573\n",
      "13508\n",
      "370371\n",
      "2676\n",
      "236853\n",
      "SC 14888\n",
      "2926\n",
      "CA 31352\n",
      "W./C. 14260\n",
      "315085\n",
      "SOTON/O.Q. 3101315\n",
      "364859\n",
      "2650\n",
      "370129\n",
      "A/5 21175\n",
      "SOTON/O.Q. 3101314\n",
      "21228\n",
      "2655\n",
      "A/5 1478\n",
      "PC 17607\n",
      "382650\n",
      "2652\n",
      "33638\n",
      "345771\n",
      "349202\n",
      "SC/Paris 2123\n",
      "2662\n",
      "113801\n",
      "347467\n",
      "347079\n",
      "237735\n"
     ]
    },
    {
     "name": "stdout",
     "output_type": "stream",
     "text": [
      "S.O./P.P. 2\n",
      "315092\n",
      "383123\n",
      "112901\n",
      "113781\n",
      "392091\n",
      "12749\n",
      "350026\n",
      "315091\n",
      "2658\n",
      "LP 1588\n",
      "368364\n",
      "PC 17760\n",
      "AQ/3. 30631\n",
      "PC 17569\n",
      "28004\n",
      "350408\n",
      "C.A. 31029\n",
      "347075\n",
      "2654\n",
      "244368\n",
      "113790\n",
      "24160\n",
      "SOTON/O.Q. 3101309\n",
      "230136\n",
      "PC 17585\n",
      "2003\n",
      "236854\n",
      "C.A. 33112\n",
      "PC 17580\n",
      "2684\n",
      "2653\n",
      "349229\n",
      "110469\n",
      "244360\n",
      "2675\n",
      "C.A. 31029\n",
      "2622\n",
      "C.A. 15185\n",
      "350403\n",
      "CA. 2343\n",
      "PC 17755\n",
      "A/5. 851\n",
      "348125\n",
      "237670\n",
      "2688\n",
      "248726\n",
      "F.C.C. 13528\n",
      "PC 17759\n",
      "F.C.C. 13540\n",
      "S.O.C. 14879\n",
      "220845\n",
      "C.A. 2315\n",
      "113044\n",
      "11769\n",
      "1222\n",
      "368402\n",
      "349910\n",
      "CA. 2343\n",
      "S.C./PARIS 2079\n",
      "CA 31352\n",
      "315083\n",
      "11765\n",
      "CA. 2343\n",
      "2689\n",
      "3101295\n",
      "112378\n",
      "SC/PARIS 2147\n",
      "28133\n",
      "16966\n",
      "112058\n",
      "248746\n",
      "33638\n",
      "PC 17608\n",
      "315152\n",
      "29107\n",
      "680\n",
      "347077\n",
      "366713\n",
      "330910\n",
      "364498\n",
      "376566\n",
      "SC/PARIS 2159\n",
      "220845\n",
      "349911\n",
      "244346\n",
      "364858\n",
      "349909\n",
      "12749\n",
      "PC 17592\n",
      "C.A. 2673\n",
      "C.A. 30769\n",
      "315153\n",
      "13695\n",
      "371109\n",
      "13567\n",
      "347065\n",
      "21332\n",
      "36928\n",
      "28664\n",
      "112378\n",
      "113059\n",
      "17765\n",
      "SC/PARIS 2166\n",
      "28666\n",
      "113503\n",
      "334915\n",
      "SOTON/O.Q. 3101315\n",
      "365237\n",
      "19928\n",
      "347086\n",
      "A.5. 3236\n",
      "PC 17758\n",
      "SOTON/O.Q. 3101262\n",
      "359309\n",
      "2668\n"
     ]
    },
    {
     "data": {
      "text/plain": [
       "37"
      ]
     },
     "execution_count": 63,
     "metadata": {},
     "output_type": "execute_result"
    }
   ],
   "source": [
    "Ticket = []\n",
    "Ticket_List = list(dataset.Ticket)\n",
    "for i, ticket in enumerate(Ticket_List):\n",
    "    print(ticket)\n",
    "    if not ticket.isdigit() :\n",
    "        t = ticket.replace(\".\",\"\").replace(\"/\",\"\").strip().split(' ')[0] \n",
    "    else:\n",
    "        t = 'X'\n",
    "    Ticket.append(t)\n",
    "    dataset[\"Ticket\"].iloc[i] = t\n",
    "\n",
    "len(list(set(Ticket)))   "
   ]
  },
  {
   "cell_type": "code",
   "execution_count": 64,
   "metadata": {},
   "outputs": [
    {
     "data": {
      "text/html": [
       "<div>\n",
       "<style scoped>\n",
       "    .dataframe tbody tr th:only-of-type {\n",
       "        vertical-align: middle;\n",
       "    }\n",
       "\n",
       "    .dataframe tbody tr th {\n",
       "        vertical-align: top;\n",
       "    }\n",
       "\n",
       "    .dataframe thead th {\n",
       "        text-align: right;\n",
       "    }\n",
       "</style>\n",
       "<table border=\"1\" class=\"dataframe\">\n",
       "  <thead>\n",
       "    <tr style=\"text-align: right;\">\n",
       "      <th></th>\n",
       "      <th>Survived</th>\n",
       "      <th>Pclass</th>\n",
       "      <th>Sex</th>\n",
       "      <th>Age</th>\n",
       "      <th>SibSp</th>\n",
       "      <th>Parch</th>\n",
       "      <th>Ticket</th>\n",
       "      <th>Fare</th>\n",
       "      <th>Cabin</th>\n",
       "      <th>Embarked</th>\n",
       "      <th>Salutation</th>\n",
       "      <th>Fsize</th>\n",
       "    </tr>\n",
       "  </thead>\n",
       "  <tbody>\n",
       "    <tr>\n",
       "      <th>0</th>\n",
       "      <td>0.0</td>\n",
       "      <td>3</td>\n",
       "      <td>0</td>\n",
       "      <td>22.0</td>\n",
       "      <td>1</td>\n",
       "      <td>0</td>\n",
       "      <td>A5</td>\n",
       "      <td>1.981001</td>\n",
       "      <td>9</td>\n",
       "      <td>0</td>\n",
       "      <td>1.0</td>\n",
       "      <td>2</td>\n",
       "    </tr>\n",
       "    <tr>\n",
       "      <th>1</th>\n",
       "      <td>1.0</td>\n",
       "      <td>1</td>\n",
       "      <td>1</td>\n",
       "      <td>38.0</td>\n",
       "      <td>1</td>\n",
       "      <td>0</td>\n",
       "      <td>PC</td>\n",
       "      <td>4.266662</td>\n",
       "      <td>3</td>\n",
       "      <td>1</td>\n",
       "      <td>2.0</td>\n",
       "      <td>2</td>\n",
       "    </tr>\n",
       "    <tr>\n",
       "      <th>2</th>\n",
       "      <td>1.0</td>\n",
       "      <td>3</td>\n",
       "      <td>1</td>\n",
       "      <td>26.0</td>\n",
       "      <td>0</td>\n",
       "      <td>0</td>\n",
       "      <td>STONO2</td>\n",
       "      <td>2.070022</td>\n",
       "      <td>9</td>\n",
       "      <td>0</td>\n",
       "      <td>3.0</td>\n",
       "      <td>1</td>\n",
       "    </tr>\n",
       "    <tr>\n",
       "      <th>3</th>\n",
       "      <td>1.0</td>\n",
       "      <td>1</td>\n",
       "      <td>1</td>\n",
       "      <td>35.0</td>\n",
       "      <td>1</td>\n",
       "      <td>0</td>\n",
       "      <td>X</td>\n",
       "      <td>3.972177</td>\n",
       "      <td>3</td>\n",
       "      <td>0</td>\n",
       "      <td>2.0</td>\n",
       "      <td>2</td>\n",
       "    </tr>\n",
       "    <tr>\n",
       "      <th>4</th>\n",
       "      <td>0.0</td>\n",
       "      <td>3</td>\n",
       "      <td>0</td>\n",
       "      <td>35.0</td>\n",
       "      <td>0</td>\n",
       "      <td>0</td>\n",
       "      <td>X</td>\n",
       "      <td>2.085672</td>\n",
       "      <td>9</td>\n",
       "      <td>0</td>\n",
       "      <td>1.0</td>\n",
       "      <td>1</td>\n",
       "    </tr>\n",
       "  </tbody>\n",
       "</table>\n",
       "</div>"
      ],
      "text/plain": [
       "   Survived  Pclass  Sex   Age  SibSp  Parch  Ticket      Fare  Cabin  \\\n",
       "0       0.0       3    0  22.0      1      0      A5  1.981001      9   \n",
       "1       1.0       1    1  38.0      1      0      PC  4.266662      3   \n",
       "2       1.0       3    1  26.0      0      0  STONO2  2.070022      9   \n",
       "3       1.0       1    1  35.0      1      0       X  3.972177      3   \n",
       "4       0.0       3    0  35.0      0      0       X  2.085672      9   \n",
       "\n",
       "   Embarked  Salutation  Fsize  \n",
       "0         0         1.0      2  \n",
       "1         1         2.0      2  \n",
       "2         0         3.0      1  \n",
       "3         0         2.0      2  \n",
       "4         0         1.0      1  "
      ]
     },
     "execution_count": 64,
     "metadata": {},
     "output_type": "execute_result"
    }
   ],
   "source": [
    "dataset.head()"
   ]
  },
  {
   "cell_type": "code",
   "execution_count": 65,
   "metadata": {},
   "outputs": [
    {
     "data": {
      "text/plain": [
       "37"
      ]
     },
     "execution_count": 65,
     "metadata": {},
     "output_type": "execute_result"
    }
   ],
   "source": [
    "ticket_map = {}\n",
    "value = 1\n",
    "for i in set(Ticket):\n",
    "    ticket_map[i]=value\n",
    "    value+=1\n",
    "len(ticket_map)"
   ]
  },
  {
   "cell_type": "code",
   "execution_count": 66,
   "metadata": {},
   "outputs": [
    {
     "data": {
      "text/html": [
       "<div>\n",
       "<style scoped>\n",
       "    .dataframe tbody tr th:only-of-type {\n",
       "        vertical-align: middle;\n",
       "    }\n",
       "\n",
       "    .dataframe tbody tr th {\n",
       "        vertical-align: top;\n",
       "    }\n",
       "\n",
       "    .dataframe thead th {\n",
       "        text-align: right;\n",
       "    }\n",
       "</style>\n",
       "<table border=\"1\" class=\"dataframe\">\n",
       "  <thead>\n",
       "    <tr style=\"text-align: right;\">\n",
       "      <th></th>\n",
       "      <th>Survived</th>\n",
       "      <th>Pclass</th>\n",
       "      <th>Sex</th>\n",
       "      <th>Age</th>\n",
       "      <th>SibSp</th>\n",
       "      <th>Parch</th>\n",
       "      <th>Ticket</th>\n",
       "      <th>Fare</th>\n",
       "      <th>Cabin</th>\n",
       "      <th>Embarked</th>\n",
       "      <th>Salutation</th>\n",
       "      <th>Fsize</th>\n",
       "    </tr>\n",
       "  </thead>\n",
       "  <tbody>\n",
       "    <tr>\n",
       "      <th>0</th>\n",
       "      <td>0.0</td>\n",
       "      <td>3</td>\n",
       "      <td>0</td>\n",
       "      <td>22.0</td>\n",
       "      <td>1</td>\n",
       "      <td>0</td>\n",
       "      <td>32</td>\n",
       "      <td>1.981001</td>\n",
       "      <td>9</td>\n",
       "      <td>0</td>\n",
       "      <td>1.0</td>\n",
       "      <td>2</td>\n",
       "    </tr>\n",
       "    <tr>\n",
       "      <th>1</th>\n",
       "      <td>1.0</td>\n",
       "      <td>1</td>\n",
       "      <td>1</td>\n",
       "      <td>38.0</td>\n",
       "      <td>1</td>\n",
       "      <td>0</td>\n",
       "      <td>35</td>\n",
       "      <td>4.266662</td>\n",
       "      <td>3</td>\n",
       "      <td>1</td>\n",
       "      <td>2.0</td>\n",
       "      <td>2</td>\n",
       "    </tr>\n",
       "    <tr>\n",
       "      <th>2</th>\n",
       "      <td>1.0</td>\n",
       "      <td>3</td>\n",
       "      <td>1</td>\n",
       "      <td>26.0</td>\n",
       "      <td>0</td>\n",
       "      <td>0</td>\n",
       "      <td>36</td>\n",
       "      <td>2.070022</td>\n",
       "      <td>9</td>\n",
       "      <td>0</td>\n",
       "      <td>3.0</td>\n",
       "      <td>1</td>\n",
       "    </tr>\n",
       "    <tr>\n",
       "      <th>3</th>\n",
       "      <td>1.0</td>\n",
       "      <td>1</td>\n",
       "      <td>1</td>\n",
       "      <td>35.0</td>\n",
       "      <td>1</td>\n",
       "      <td>0</td>\n",
       "      <td>7</td>\n",
       "      <td>3.972177</td>\n",
       "      <td>3</td>\n",
       "      <td>0</td>\n",
       "      <td>2.0</td>\n",
       "      <td>2</td>\n",
       "    </tr>\n",
       "    <tr>\n",
       "      <th>4</th>\n",
       "      <td>0.0</td>\n",
       "      <td>3</td>\n",
       "      <td>0</td>\n",
       "      <td>35.0</td>\n",
       "      <td>0</td>\n",
       "      <td>0</td>\n",
       "      <td>7</td>\n",
       "      <td>2.085672</td>\n",
       "      <td>9</td>\n",
       "      <td>0</td>\n",
       "      <td>1.0</td>\n",
       "      <td>1</td>\n",
       "    </tr>\n",
       "  </tbody>\n",
       "</table>\n",
       "</div>"
      ],
      "text/plain": [
       "   Survived  Pclass  Sex   Age  SibSp  Parch  Ticket      Fare  Cabin  \\\n",
       "0       0.0       3    0  22.0      1      0      32  1.981001      9   \n",
       "1       1.0       1    1  38.0      1      0      35  4.266662      3   \n",
       "2       1.0       3    1  26.0      0      0      36  2.070022      9   \n",
       "3       1.0       1    1  35.0      1      0       7  3.972177      3   \n",
       "4       0.0       3    0  35.0      0      0       7  2.085672      9   \n",
       "\n",
       "   Embarked  Salutation  Fsize  \n",
       "0         0         1.0      2  \n",
       "1         1         2.0      2  \n",
       "2         0         3.0      1  \n",
       "3         0         2.0      2  \n",
       "4         0         1.0      1  "
      ]
     },
     "execution_count": 66,
     "metadata": {},
     "output_type": "execute_result"
    }
   ],
   "source": [
    "dataset['Ticket'] = dataset['Ticket'].map(ticket_map)\n",
    "dataset.head()"
   ]
  },
  {
   "cell_type": "markdown",
   "metadata": {},
   "source": [
    "### Split Train and Test Data"
   ]
  },
  {
   "cell_type": "code",
   "execution_count": 67,
   "metadata": {},
   "outputs": [
    {
     "name": "stdout",
     "output_type": "stream",
     "text": [
      "['Survived', 'Pclass', 'Sex', 'Age', 'SibSp', 'Parch', 'Ticket', 'Fare', 'Cabin', 'Embarked', 'Salutation', 'Fsize']\n",
      "['Pclass', 'Sex', 'Age', 'SibSp', 'Parch', 'Ticket', 'Fare', 'Cabin', 'Embarked', 'Salutation', 'Fsize']\n"
     ]
    }
   ],
   "source": [
    "train = dataset[:len(train_df)]\n",
    "test = dataset[len(train_df):]\n",
    "test.drop(labels = [\"Survived\"], axis = 1, inplace = True)\n",
    "print(list(train.columns))\n",
    "print(list(test.columns))"
   ]
  },
  {
   "cell_type": "code",
   "execution_count": 70,
   "metadata": {},
   "outputs": [
    {
     "data": {
      "image/png": "[encoded data removed]",
      "text/plain": [
       "<Figure size 648x648 with 2 Axes>"
      ]
     },
     "metadata": {},
     "output_type": "display_data"
    }
   ],
   "source": [
    "fig, axes = plt.subplots(figsize=(9,9))\n",
    "g = sns.heatmap(train.corr(),annot=True, fmt = \".2f\", cmap = \"Blues\", ax=axes)"
   ]
  },
  {
   "cell_type": "markdown",
   "metadata": {},
   "source": [
    "* Not removing *Cabin* had been a good idea, as it negatively correlates with Survival.\n",
    "* Sex, Pclass and Salutation had some impact in deciding the Survival.\n"
   ]
  },
  {
   "cell_type": "code",
   "execution_count": 71,
   "metadata": {},
   "outputs": [
    {
     "name": "stdout",
     "output_type": "stream",
     "text": [
      "X_train:  (891, 11)\n",
      "Y_train  (891,)\n",
      "test  (418, 11)\n"
     ]
    }
   ],
   "source": [
    "train[\"Survived\"] = train[\"Survived\"].astype(int)\n",
    "Y_train = train[\"Survived\"]\n",
    "X_train = train.drop(labels = [\"Survived\"],axis = 1)\n",
    "\n",
    "print(\"X_train: \",X_train.shape)\n",
    "print(\"Y_train \",Y_train.shape)\n",
    "print(\"test \", test.shape)"
   ]
  },
  {
   "cell_type": "markdown",
   "metadata": {},
   "source": [
    "### Modeling"
   ]
  },
  {
   "cell_type": "code",
   "execution_count": null,
   "metadata": {},
   "outputs": [],
   "source": []
  }
 ],
 "metadata": {
  "kernelspec": {
   "display_name": "Python 3",
   "language": "python",
   "name": "python3"
  },
  "language_info": {
   "codemirror_mode": {
    "name": "ipython",
    "version": 3
   },
   "file_extension": ".py",
   "mimetype": "text/x-python",
   "name": "python",
   "nbconvert_exporter": "python",
   "pygments_lexer": "ipython3",
   "version": "3.7.6"
  }
 },
 "nbformat": 4,
 "nbformat_minor": 4
}
